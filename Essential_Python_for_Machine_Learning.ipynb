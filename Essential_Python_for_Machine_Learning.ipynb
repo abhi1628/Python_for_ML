{
  "nbformat": 4,
  "nbformat_minor": 0,
  "metadata": {
    "colab": {
      "provenance": [],
      "authorship_tag": "ABX9TyMP5om5HBxgrM7L/lDV2csF",
      "include_colab_link": true
    },
    "kernelspec": {
      "name": "python3",
      "display_name": "Python 3"
    },
    "language_info": {
      "name": "python"
    }
  },
  "cells": [
    {
      "cell_type": "markdown",
      "metadata": {
        "id": "view-in-github",
        "colab_type": "text"
      },
      "source": [
        "<a href=\"https://colab.research.google.com/github/abhi1628/Python_for_ML/blob/main/Essential_Python_for_Machine_Learning.ipynb\" target=\"_parent\"><img src=\"https://colab.research.google.com/assets/colab-badge.svg\" alt=\"Open In Colab\"/></a>"
      ]
    },
    {
      "cell_type": "markdown",
      "source": [
        "# **Python- An Introduction**\n",
        "\n",
        "###1. Python was created by **Guido van Rossum**, a Dutch programmer, in the late 1980s. Python is named after the popular British comedy group, **Monty Python**. Rossum was a fan of **Monty Python's Flying Circus**, a comedy sketch show that aired in the late 1960s and early 1970s.\n",
        "###2. **Guido van Rossum** released the **first version** of Python, **Python 0.9.0**, on February 20th 1991. Currently, **version 3.11.4** is going on.\n",
        "###3. Python is a **high-level** programming language known for its **simplicity** and **readability**.\n",
        "###4. Python has a **vast** and **active community** of developers and users. The community provides extensive support, resources, and documentation, making it easier for newcomers to learn and use Python.\n",
        "###5. Python demonstrates **dynamic typing**, supporting the **object-oriented programming paradigm**, and operating without the necessity of explicit compilation. Additionally, Python ensures **cross-platform compatibility**, enabling code to be executed seamlessly across diverse operating systems.\n",
        "---"
      ],
      "metadata": {
        "id": "nqnNWM_u4qqh"
      }
    },
    {
      "cell_type": "markdown",
      "source": [
        "# **Advantages of using Python for machine learning projects**\n",
        "###1. **Flexibility:** Python's versatility allows developers to tackle a wide range of machine learning tasks, from data preprocessing and modeling to deployment.\n",
        "###2. **Extensive libraries:** Python offers a variety of powerful libraries and frameworks such as NumPy, Pandas, scikit-learn, TensorFlow, and PyTorch that simplify machine learning development.\n",
        "###3. **Easy integration:** Python seamlessly integrates with other programming languages, making it convenient to leverage existing libraries and tools for specialized tasks.\n",
        "###4. **Rapid prototyping:** Python's concise syntax and interactive nature make it ideal for rapid prototyping and experimentation in the machine learning workflow.\n",
        "###5. **Strong community support:** Python has an active community of developers and researchers who contribute to open-source projects, provide support, and share knowledge.\n",
        "\n",
        "---"
      ],
      "metadata": {
        "id": "mm-n958c6sXo"
      }
    },
    {
      "cell_type": "markdown",
      "source": [
        "# **Considerations for Python Version Compatibility in Machine Learning Libraries**\n",
        "###1. **Python is not back version compatible**- It means that if some features are newly introduced in latest version of Python then those features will not run on older python versions.\n",
        "\n",
        "###2. **Lack of backward compatibility in Python can impact machine learning libraries**- Libraries like scikit-learn, TensorFlow, or PyTorch often have dependencies on specific Python versions and related libraries. When a new version of Python is released, it may introduce changes that are not compatible with previous versions, potentially affecting the functionality and compatibility of machine learning libraries.\n",
        "\n",
        "###3. **Ensure Compatibility**- When working with existing code or projects, it is important to consider the Python version used during development. Upgrading Python to a newer version may necessitate modifications to the code to account for changes or differences introduced in the updated version. These modifications may include adapting syntax, handling deprecated features, or updating library dependencies to ensure compatibility.\n",
        "\n",
        "---"
      ],
      "metadata": {
        "id": "NvT2t9_G7A7Q"
      }
    },
    {
      "cell_type": "code",
      "source": [],
      "metadata": {
        "id": "84KM7L36KfHx"
      },
      "execution_count": null,
      "outputs": []
    },
    {
      "cell_type": "markdown",
      "source": [
        "# **Let's Start To Code**\n",
        "###. **Check the version**"
      ],
      "metadata": {
        "id": "aJRdxF93Cn83"
      }
    },
    {
      "cell_type": "code",
      "source": [
        "!python --version # ! character is used to execute a shell command"
      ],
      "metadata": {
        "id": "eUi-CumVDBvH",
        "colab": {
          "base_uri": "https://localhost:8080/"
        },
        "outputId": "d8c5a074-ba2d-4a5f-9106-fb3f138221d8"
      },
      "execution_count": null,
      "outputs": [
        {
          "output_type": "stream",
          "name": "stdout",
          "text": [
            "Python 3.10.12\n"
          ]
        }
      ]
    },
    {
      "cell_type": "code",
      "source": [],
      "metadata": {
        "id": "ncTRWhPLKgUA"
      },
      "execution_count": null,
      "outputs": []
    },
    {
      "cell_type": "markdown",
      "source": [
        "### **Check all the existing libraries**- consider python as a smartphone then libraries are the apps which makes this smartphone actually smart."
      ],
      "metadata": {
        "id": "nOpkdiGFD4mY"
      }
    },
    {
      "cell_type": "code",
      "source": [
        "!pip list"
      ],
      "metadata": {
        "id": "WssDnBVnD_U4",
        "colab": {
          "base_uri": "https://localhost:8080/"
        },
        "outputId": "1f0ac286-1589-4ec6-df45-dbc219e819cc"
      },
      "execution_count": null,
      "outputs": [
        {
          "output_type": "stream",
          "name": "stdout",
          "text": [
            "Package                          Version\n",
            "-------------------------------- ---------------------\n",
            "absl-py                          1.4.0\n",
            "aiohttp                          3.8.4\n",
            "aiosignal                        1.3.1\n",
            "alabaster                        0.7.13\n",
            "albumentations                   1.2.1\n",
            "altair                           4.2.2\n",
            "anyio                            3.7.0\n",
            "appdirs                          1.4.4\n",
            "argon2-cffi                      21.3.0\n",
            "argon2-cffi-bindings             21.2.0\n",
            "array-record                     0.4.0\n",
            "arviz                            0.15.1\n",
            "astropy                          5.2.2\n",
            "astunparse                       1.6.3\n",
            "async-timeout                    4.0.2\n",
            "attrs                            23.1.0\n",
            "audioread                        3.0.0\n",
            "autograd                         1.6.1\n",
            "Babel                            2.12.1\n",
            "backcall                         0.2.0\n",
            "beautifulsoup4                   4.11.2\n",
            "bleach                           6.0.0\n",
            "blis                             0.7.9\n",
            "blosc2                           2.0.0\n",
            "bokeh                            2.4.3\n",
            "branca                           0.6.0\n",
            "build                            0.10.0\n",
            "CacheControl                     0.13.1\n",
            "cached-property                  1.5.2\n",
            "cachetools                       5.3.1\n",
            "catalogue                        2.0.8\n",
            "certifi                          2023.5.7\n",
            "cffi                             1.15.1\n",
            "chardet                          4.0.0\n",
            "charset-normalizer               2.0.12\n",
            "chex                             0.1.7\n",
            "click                            8.1.3\n",
            "click-plugins                    1.1.1\n",
            "cligj                            0.7.2\n",
            "cloudpickle                      2.2.1\n",
            "cmake                            3.25.2\n",
            "cmdstanpy                        1.1.0\n",
            "colorcet                         3.0.1\n",
            "colorlover                       0.3.0\n",
            "community                        1.0.0b1\n",
            "confection                       0.0.4\n",
            "cons                             0.4.6\n",
            "contextlib2                      0.6.0.post1\n",
            "contourpy                        1.1.0\n",
            "convertdate                      2.4.0\n",
            "cufflinks                        0.17.3\n",
            "cvxopt                           1.3.1\n",
            "cvxpy                            1.3.1\n",
            "cycler                           0.11.0\n",
            "cymem                            2.0.7\n",
            "Cython                           0.29.35\n",
            "dask                             2022.12.1\n",
            "datascience                      0.17.6\n",
            "db-dtypes                        1.1.1\n",
            "dbus-python                      1.2.16\n",
            "debugpy                          1.6.6\n",
            "decorator                        4.4.2\n",
            "defusedxml                       0.7.1\n",
            "distributed                      2022.12.1\n",
            "dlib                             19.24.2\n",
            "dm-tree                          0.1.8\n",
            "docutils                         0.16\n",
            "dopamine-rl                      4.0.6\n",
            "duckdb                           0.8.1\n",
            "earthengine-api                  0.1.357\n",
            "easydict                         1.10\n",
            "ecos                             2.0.12\n",
            "editdistance                     0.6.2\n",
            "en-core-web-sm                   3.5.0\n",
            "entrypoints                      0.4\n",
            "ephem                            4.1.4\n",
            "et-xmlfile                       1.1.0\n",
            "etils                            1.3.0\n",
            "etuples                          0.3.9\n",
            "exceptiongroup                   1.1.1\n",
            "fastai                           2.7.12\n",
            "fastcore                         1.5.29\n",
            "fastdownload                     0.0.7\n",
            "fastjsonschema                   2.17.1\n",
            "fastprogress                     1.0.3\n",
            "fastrlock                        0.8.1\n",
            "filelock                         3.12.2\n",
            "Fiona                            1.9.4.post1\n",
            "firebase-admin                   5.3.0\n",
            "Flask                            2.2.5\n",
            "flatbuffers                      23.5.26\n",
            "flax                             0.6.11\n",
            "folium                           0.14.0\n",
            "fonttools                        4.40.0\n",
            "frozendict                       2.3.8\n",
            "frozenlist                       1.3.3\n",
            "fsspec                           2023.6.0\n",
            "future                           0.18.3\n",
            "gast                             0.4.0\n",
            "gcsfs                            2023.6.0\n",
            "GDAL                             3.3.2\n",
            "gdown                            4.6.6\n",
            "gensim                           4.3.1\n",
            "geographiclib                    2.0\n",
            "geopandas                        0.13.2\n",
            "geopy                            2.3.0\n",
            "gin-config                       0.5.0\n",
            "glob2                            0.7\n",
            "google                           2.0.3\n",
            "google-api-core                  2.11.1\n",
            "google-api-python-client         2.84.0\n",
            "google-auth                      2.17.3\n",
            "google-auth-httplib2             0.1.0\n",
            "google-auth-oauthlib             1.0.0\n",
            "google-cloud-bigquery            3.10.0\n",
            "google-cloud-bigquery-connection 1.12.0\n",
            "google-cloud-bigquery-storage    2.20.0\n",
            "google-cloud-core                2.3.2\n",
            "google-cloud-datastore           2.15.2\n",
            "google-cloud-firestore           2.11.1\n",
            "google-cloud-functions           1.13.0\n",
            "google-cloud-language            2.9.1\n",
            "google-cloud-storage             2.8.0\n",
            "google-cloud-translate           3.11.1\n",
            "google-colab                     1.0.0\n",
            "google-crc32c                    1.5.0\n",
            "google-pasta                     0.2.0\n",
            "google-resumable-media           2.5.0\n",
            "googleapis-common-protos         1.59.1\n",
            "googledrivedownloader            0.4\n",
            "graphviz                         0.20.1\n",
            "greenlet                         2.0.2\n",
            "grpc-google-iam-v1               0.12.6\n",
            "grpcio                           1.56.0\n",
            "grpcio-status                    1.48.2\n",
            "gspread                          3.4.2\n",
            "gspread-dataframe                3.0.8\n",
            "gym                              0.25.2\n",
            "gym-notices                      0.0.8\n",
            "h5netcdf                         1.2.0\n",
            "h5py                             3.8.0\n",
            "holidays                         0.27.1\n",
            "holoviews                        1.15.4\n",
            "html5lib                         1.1\n",
            "httpimport                       1.3.0\n",
            "httplib2                         0.21.0\n",
            "humanize                         4.6.0\n",
            "hyperopt                         0.2.7\n",
            "idna                             3.4\n",
            "imageio                          2.25.1\n",
            "imageio-ffmpeg                   0.4.8\n",
            "imagesize                        1.4.1\n",
            "imbalanced-learn                 0.10.1\n",
            "imgaug                           0.4.0\n",
            "importlib-resources              5.12.0\n",
            "imutils                          0.5.4\n",
            "inflect                          6.0.4\n",
            "iniconfig                        2.0.0\n",
            "intel-openmp                     2023.1.0\n",
            "ipykernel                        5.5.6\n",
            "ipython                          7.34.0\n",
            "ipython-genutils                 0.2.0\n",
            "ipython-sql                      0.4.1\n",
            "ipywidgets                       7.7.1\n",
            "itsdangerous                     2.1.2\n",
            "jax                              0.4.10\n",
            "jaxlib                           0.4.10+cuda11.cudnn86\n",
            "jieba                            0.42.1\n",
            "Jinja2                           3.1.2\n",
            "joblib                           1.2.0\n",
            "jsonpickle                       3.0.1\n",
            "jsonschema                       4.3.3\n",
            "jupyter-client                   6.1.12\n",
            "jupyter-console                  6.1.0\n",
            "jupyter_core                     5.3.1\n",
            "jupyter-server                   1.24.0\n",
            "jupyterlab-pygments              0.2.2\n",
            "jupyterlab-widgets               3.0.7\n",
            "kaggle                           1.5.13\n",
            "keras                            2.12.0\n",
            "kiwisolver                       1.4.4\n",
            "langcodes                        3.3.0\n",
            "lazy_loader                      0.2\n",
            "libclang                         16.0.0\n",
            "librosa                          0.10.0.post2\n",
            "lightgbm                         3.3.5\n",
            "lit                              16.0.6\n",
            "llvmlite                         0.39.1\n",
            "locket                           1.0.0\n",
            "logical-unification              0.4.6\n",
            "LunarCalendar                    0.0.9\n",
            "lxml                             4.9.2\n",
            "Markdown                         3.4.3\n",
            "markdown-it-py                   3.0.0\n",
            "MarkupSafe                       2.1.3\n",
            "matplotlib                       3.7.1\n",
            "matplotlib-inline                0.1.6\n",
            "matplotlib-venn                  0.11.9\n",
            "mdurl                            0.1.2\n",
            "miniKanren                       1.0.3\n",
            "missingno                        0.5.2\n",
            "mistune                          0.8.4\n",
            "mizani                           0.8.1\n",
            "mkl                              2019.0\n",
            "ml-dtypes                        0.2.0\n",
            "mlxtend                          0.14.0\n",
            "more-itertools                   9.1.0\n",
            "moviepy                          1.0.3\n",
            "mpmath                           1.3.0\n",
            "msgpack                          1.0.5\n",
            "multidict                        6.0.4\n",
            "multipledispatch                 0.6.0\n",
            "multitasking                     0.0.11\n",
            "murmurhash                       1.0.9\n",
            "music21                          8.1.0\n",
            "natsort                          8.3.1\n",
            "nbclient                         0.8.0\n",
            "nbconvert                        6.5.4\n",
            "nbformat                         5.9.0\n",
            "nest-asyncio                     1.5.6\n",
            "networkx                         3.1\n",
            "nibabel                          3.0.2\n",
            "nltk                             3.8.1\n",
            "notebook                         6.4.8\n",
            "numba                            0.56.4\n",
            "numexpr                          2.8.4\n",
            "numpy                            1.22.4\n",
            "oauth2client                     4.1.3\n",
            "oauthlib                         3.2.2\n",
            "opencv-contrib-python            4.7.0.72\n",
            "opencv-python                    4.7.0.72\n",
            "opencv-python-headless           4.7.0.72\n",
            "openpyxl                         3.0.10\n",
            "opt-einsum                       3.3.0\n",
            "optax                            0.1.5\n",
            "orbax-checkpoint                 0.2.6\n",
            "osqp                             0.6.2.post8\n",
            "packaging                        23.1\n",
            "palettable                       3.3.3\n",
            "pandas                           1.5.3\n",
            "pandas-datareader                0.10.0\n",
            "pandas-gbq                       0.17.9\n",
            "pandocfilters                    1.5.0\n",
            "panel                            0.14.4\n",
            "param                            1.13.0\n",
            "parso                            0.8.3\n",
            "partd                            1.4.0\n",
            "pathlib                          1.0.1\n",
            "pathy                            0.10.2\n",
            "patsy                            0.5.3\n",
            "pexpect                          4.8.0\n",
            "pickleshare                      0.7.5\n",
            "Pillow                           8.4.0\n",
            "pip                              23.1.2\n",
            "pip-tools                        6.13.0\n",
            "platformdirs                     3.7.0\n",
            "plotly                           5.13.1\n",
            "plotnine                         0.10.1\n",
            "pluggy                           1.2.0\n",
            "polars                           0.17.3\n",
            "pooch                            1.6.0\n",
            "portpicker                       1.5.2\n",
            "prefetch-generator               1.0.3\n",
            "preshed                          3.0.8\n",
            "prettytable                      0.7.2\n",
            "proglog                          0.1.10\n",
            "progressbar2                     4.2.0\n",
            "prometheus-client                0.17.0\n",
            "promise                          2.3\n",
            "prompt-toolkit                   3.0.38\n",
            "prophet                          1.1.4\n",
            "proto-plus                       1.22.3\n",
            "protobuf                         3.20.3\n",
            "psutil                           5.9.5\n",
            "psycopg2                         2.9.6\n",
            "ptyprocess                       0.7.0\n",
            "py-cpuinfo                       9.0.0\n",
            "py4j                             0.10.9.7\n",
            "pyarrow                          9.0.0\n",
            "pyasn1                           0.5.0\n",
            "pyasn1-modules                   0.3.0\n",
            "pycocotools                      2.0.6\n",
            "pycparser                        2.21\n",
            "pyct                             0.5.0\n",
            "pydantic                         1.10.9\n",
            "pydata-google-auth               1.8.0\n",
            "pydot                            1.4.2\n",
            "pydot-ng                         2.0.0\n",
            "pydotplus                        2.0.2\n",
            "PyDrive                          1.3.1\n",
            "pyerfa                           2.0.0.3\n",
            "pygame                           2.4.0\n",
            "Pygments                         2.14.0\n",
            "PyGObject                        3.36.0\n",
            "pymc                             5.1.2\n",
            "PyMeeus                          0.5.12\n",
            "pymystem3                        0.2.0\n",
            "PyOpenGL                         3.1.7\n",
            "pyparsing                        3.1.0\n",
            "pyproj                           3.6.0\n",
            "pyproject_hooks                  1.0.0\n",
            "pyrsistent                       0.19.3\n",
            "PySocks                          1.7.1\n",
            "pytensor                         2.10.1\n",
            "pytest                           7.2.2\n",
            "python-apt                       0.0.0\n",
            "python-dateutil                  2.8.2\n",
            "python-louvain                   0.16\n",
            "python-slugify                   8.0.1\n",
            "python-utils                     3.7.0\n",
            "pytz                             2022.7.1\n",
            "pyviz-comms                      2.3.2\n",
            "PyWavelets                       1.4.1\n",
            "PyYAML                           6.0\n",
            "pyzmq                            23.2.1\n",
            "qdldl                            0.1.7\n",
            "qudida                           0.0.4\n",
            "regex                            2022.10.31\n",
            "requests                         2.27.1\n",
            "requests-oauthlib                1.3.1\n",
            "requests-unixsocket              0.2.0\n",
            "requirements-parser              0.5.0\n",
            "rich                             13.4.2\n",
            "rpy2                             3.5.5\n",
            "rsa                              4.9\n",
            "scikit-image                     0.19.3\n",
            "scikit-learn                     1.2.2\n",
            "scipy                            1.10.1\n",
            "scs                              3.2.3\n",
            "seaborn                          0.12.2\n",
            "Send2Trash                       1.8.2\n",
            "setuptools                       67.7.2\n",
            "shapely                          2.0.1\n",
            "six                              1.16.0\n",
            "sklearn-pandas                   2.2.0\n",
            "smart-open                       6.3.0\n",
            "sniffio                          1.3.0\n",
            "snowballstemmer                  2.2.0\n",
            "sortedcontainers                 2.4.0\n",
            "soundfile                        0.12.1\n",
            "soupsieve                        2.4.1\n",
            "soxr                             0.3.5\n",
            "spacy                            3.5.3\n",
            "spacy-legacy                     3.0.12\n",
            "spacy-loggers                    1.0.4\n",
            "Sphinx                           3.5.4\n",
            "sphinxcontrib-applehelp          1.0.4\n",
            "sphinxcontrib-devhelp            1.0.2\n",
            "sphinxcontrib-htmlhelp           2.0.1\n",
            "sphinxcontrib-jsmath             1.0.1\n",
            "sphinxcontrib-qthelp             1.0.3\n",
            "sphinxcontrib-serializinghtml    1.1.5\n",
            "SQLAlchemy                       2.0.16\n",
            "sqlparse                         0.4.4\n",
            "srsly                            2.4.6\n",
            "statsmodels                      0.13.5\n",
            "sympy                            1.11.1\n",
            "tables                           3.8.0\n",
            "tabulate                         0.8.10\n",
            "tblib                            2.0.0\n",
            "tenacity                         8.2.2\n",
            "tensorboard                      2.12.3\n",
            "tensorboard-data-server          0.7.1\n",
            "tensorflow                       2.12.0\n",
            "tensorflow-datasets              4.9.2\n",
            "tensorflow-estimator             2.12.0\n",
            "tensorflow-gcs-config            2.12.0\n",
            "tensorflow-hub                   0.13.0\n",
            "tensorflow-io-gcs-filesystem     0.32.0\n",
            "tensorflow-metadata              1.13.1\n",
            "tensorflow-probability           0.20.1\n",
            "tensorstore                      0.1.38\n",
            "termcolor                        2.3.0\n",
            "terminado                        0.17.1\n",
            "text-unidecode                   1.3\n",
            "textblob                         0.17.1\n",
            "tf-slim                          1.1.0\n",
            "thinc                            8.1.10\n",
            "threadpoolctl                    3.1.0\n",
            "tifffile                         2023.4.12\n",
            "tinycss2                         1.2.1\n",
            "toml                             0.10.2\n",
            "tomli                            2.0.1\n",
            "toolz                            0.12.0\n",
            "torch                            2.0.1+cu118\n",
            "torchaudio                       2.0.2+cu118\n",
            "torchdata                        0.6.1\n",
            "torchsummary                     1.5.1\n",
            "torchtext                        0.15.2\n",
            "torchvision                      0.15.2+cu118\n",
            "tornado                          6.3.1\n",
            "tqdm                             4.65.0\n",
            "traitlets                        5.7.1\n",
            "triton                           2.0.0\n",
            "tweepy                           4.13.0\n",
            "typer                            0.7.0\n",
            "types-setuptools                 68.0.0.0\n",
            "typing_extensions                4.6.3\n",
            "tzlocal                          5.0.1\n",
            "uritemplate                      4.1.1\n",
            "urllib3                          1.26.16\n",
            "vega-datasets                    0.9.0\n",
            "wasabi                           1.1.2\n",
            "wcwidth                          0.2.6\n",
            "webcolors                        1.13\n",
            "webencodings                     0.5.1\n",
            "websocket-client                 1.6.0\n",
            "Werkzeug                         2.3.6\n",
            "wheel                            0.40.0\n",
            "widgetsnbextension               3.6.4\n",
            "wordcloud                        1.8.2.2\n",
            "wrapt                            1.14.1\n",
            "xarray                           2022.12.0\n",
            "xarray-einstats                  0.5.1\n",
            "xgboost                          1.7.6\n",
            "xlrd                             2.0.1\n",
            "yarl                             1.9.2\n",
            "yellowbrick                      1.5\n",
            "yfinance                         0.2.21\n",
            "zict                             3.0.0\n",
            "zipp                             3.15.0\n"
          ]
        }
      ]
    },
    {
      "cell_type": "code",
      "source": [],
      "metadata": {
        "id": "JIwxlkEKKhCA"
      },
      "execution_count": null,
      "outputs": []
    },
    {
      "cell_type": "markdown",
      "source": [
        "### **Check any particular package**"
      ],
      "metadata": {
        "id": "3q-bRIxxEdrn"
      }
    },
    {
      "cell_type": "code",
      "source": [
        "!pip show numpy"
      ],
      "metadata": {
        "id": "G2xJNydfEA2w",
        "colab": {
          "base_uri": "https://localhost:8080/"
        },
        "outputId": "daf8a809-72c8-4e3a-fd0f-c6ce7127dad7"
      },
      "execution_count": null,
      "outputs": [
        {
          "output_type": "stream",
          "name": "stdout",
          "text": [
            "Name: numpy\n",
            "Version: 1.22.4\n",
            "Summary: NumPy is the fundamental package for array computing with Python.\n",
            "Home-page: https://www.numpy.org\n",
            "Author: Travis E. Oliphant et al.\n",
            "Author-email: \n",
            "License: BSD\n",
            "Location: /usr/local/lib/python3.10/dist-packages\n",
            "Requires: \n",
            "Required-by: albumentations, altair, arviz, astropy, autograd, blis, bokeh, chex, cmdstanpy, contourpy, cufflinks, cvxpy, datascience, db-dtypes, dopamine-rl, ecos, flax, folium, gensim, gym, h5py, holoviews, hyperopt, imageio, imbalanced-learn, imgaug, jax, jaxlib, librosa, lightgbm, matplotlib, matplotlib-venn, missingno, mizani, ml-dtypes, mlxtend, moviepy, music21, nibabel, numba, numexpr, opencv-contrib-python, opencv-python, opencv-python-headless, opt-einsum, optax, orbax-checkpoint, osqp, pandas, pandas-gbq, patsy, plotnine, prophet, pyarrow, pycocotools, pyerfa, pymc, pytensor, python-louvain, PyWavelets, qdldl, qudida, scikit-image, scikit-learn, scipy, scs, seaborn, shapely, sklearn-pandas, soxr, spacy, statsmodels, tables, tensorboard, tensorflow, tensorflow-datasets, tensorflow-hub, tensorflow-probability, tensorstore, thinc, tifffile, torchtext, torchvision, wordcloud, xarray, xarray-einstats, xgboost, yellowbrick, yfinance\n"
          ]
        }
      ]
    },
    {
      "cell_type": "code",
      "source": [
        "!pip show abhiprime"
      ],
      "metadata": {
        "id": "n-Bs7NN9Ek6P",
        "colab": {
          "base_uri": "https://localhost:8080/"
        },
        "outputId": "bfd44da1-819e-4861-9909-b0d5e3bbaddb"
      },
      "execution_count": null,
      "outputs": [
        {
          "output_type": "stream",
          "name": "stdout",
          "text": [
            "\u001b[33mWARNING: Package(s) not found: abhiprime\u001b[0m\u001b[33m\n",
            "\u001b[0m"
          ]
        }
      ]
    },
    {
      "cell_type": "code",
      "source": [],
      "metadata": {
        "id": "K-MUNweqKmjN"
      },
      "execution_count": null,
      "outputs": []
    },
    {
      "cell_type": "markdown",
      "source": [
        "### **Installing new library**"
      ],
      "metadata": {
        "id": "kg_BTkN_Ffn4"
      }
    },
    {
      "cell_type": "code",
      "source": [
        "!pip install abhiprime"
      ],
      "metadata": {
        "id": "Exu9CG33Exqg",
        "colab": {
          "base_uri": "https://localhost:8080/"
        },
        "outputId": "f2f8700c-fd8a-475e-db73-65b30143755c"
      },
      "execution_count": null,
      "outputs": [
        {
          "output_type": "stream",
          "name": "stdout",
          "text": [
            "Collecting abhiprime\n",
            "  Downloading abhiprime-6.0.0-py3-none-any.whl (3.7 kB)\n",
            "Installing collected packages: abhiprime\n",
            "Successfully installed abhiprime-6.0.0\n"
          ]
        }
      ]
    },
    {
      "cell_type": "code",
      "source": [
        "!pip list"
      ],
      "metadata": {
        "id": "mGUWrAw-FmTQ",
        "colab": {
          "base_uri": "https://localhost:8080/"
        },
        "outputId": "5a1baaa4-be29-4ca9-fcc1-fa4e3f5108a3"
      },
      "execution_count": null,
      "outputs": [
        {
          "output_type": "stream",
          "name": "stdout",
          "text": [
            "Package                          Version\n",
            "-------------------------------- ---------------------\n",
            "abhiprime                        6.0.0\n",
            "absl-py                          1.4.0\n",
            "aiohttp                          3.8.4\n",
            "aiosignal                        1.3.1\n",
            "alabaster                        0.7.13\n",
            "albumentations                   1.2.1\n",
            "altair                           4.2.2\n",
            "anyio                            3.7.0\n",
            "appdirs                          1.4.4\n",
            "argon2-cffi                      21.3.0\n",
            "argon2-cffi-bindings             21.2.0\n",
            "array-record                     0.4.0\n",
            "arviz                            0.15.1\n",
            "astropy                          5.2.2\n",
            "astunparse                       1.6.3\n",
            "async-timeout                    4.0.2\n",
            "attrs                            23.1.0\n",
            "audioread                        3.0.0\n",
            "autograd                         1.6.1\n",
            "Babel                            2.12.1\n",
            "backcall                         0.2.0\n",
            "beautifulsoup4                   4.11.2\n",
            "bleach                           6.0.0\n",
            "blis                             0.7.9\n",
            "blosc2                           2.0.0\n",
            "bokeh                            2.4.3\n",
            "branca                           0.6.0\n",
            "build                            0.10.0\n",
            "CacheControl                     0.13.1\n",
            "cached-property                  1.5.2\n",
            "cachetools                       5.3.1\n",
            "catalogue                        2.0.8\n",
            "certifi                          2023.5.7\n",
            "cffi                             1.15.1\n",
            "chardet                          4.0.0\n",
            "charset-normalizer               2.0.12\n",
            "chex                             0.1.7\n",
            "click                            8.1.3\n",
            "click-plugins                    1.1.1\n",
            "cligj                            0.7.2\n",
            "cloudpickle                      2.2.1\n",
            "cmake                            3.25.2\n",
            "cmdstanpy                        1.1.0\n",
            "colorcet                         3.0.1\n",
            "colorlover                       0.3.0\n",
            "community                        1.0.0b1\n",
            "confection                       0.0.4\n",
            "cons                             0.4.6\n",
            "contextlib2                      0.6.0.post1\n",
            "contourpy                        1.1.0\n",
            "convertdate                      2.4.0\n",
            "cufflinks                        0.17.3\n",
            "cvxopt                           1.3.1\n",
            "cvxpy                            1.3.1\n",
            "cycler                           0.11.0\n",
            "cymem                            2.0.7\n",
            "Cython                           0.29.35\n",
            "dask                             2022.12.1\n",
            "datascience                      0.17.6\n",
            "db-dtypes                        1.1.1\n",
            "dbus-python                      1.2.16\n",
            "debugpy                          1.6.6\n",
            "decorator                        4.4.2\n",
            "defusedxml                       0.7.1\n",
            "distributed                      2022.12.1\n",
            "dlib                             19.24.2\n",
            "dm-tree                          0.1.8\n",
            "docutils                         0.16\n",
            "dopamine-rl                      4.0.6\n",
            "duckdb                           0.8.1\n",
            "earthengine-api                  0.1.357\n",
            "easydict                         1.10\n",
            "ecos                             2.0.12\n",
            "editdistance                     0.6.2\n",
            "en-core-web-sm                   3.5.0\n",
            "entrypoints                      0.4\n",
            "ephem                            4.1.4\n",
            "et-xmlfile                       1.1.0\n",
            "etils                            1.3.0\n",
            "etuples                          0.3.9\n",
            "exceptiongroup                   1.1.1\n",
            "fastai                           2.7.12\n",
            "fastcore                         1.5.29\n",
            "fastdownload                     0.0.7\n",
            "fastjsonschema                   2.17.1\n",
            "fastprogress                     1.0.3\n",
            "fastrlock                        0.8.1\n",
            "filelock                         3.12.2\n",
            "Fiona                            1.9.4.post1\n",
            "firebase-admin                   5.3.0\n",
            "Flask                            2.2.5\n",
            "flatbuffers                      23.5.26\n",
            "flax                             0.6.11\n",
            "folium                           0.14.0\n",
            "fonttools                        4.40.0\n",
            "frozendict                       2.3.8\n",
            "frozenlist                       1.3.3\n",
            "fsspec                           2023.6.0\n",
            "future                           0.18.3\n",
            "gast                             0.4.0\n",
            "gcsfs                            2023.6.0\n",
            "GDAL                             3.3.2\n",
            "gdown                            4.6.6\n",
            "gensim                           4.3.1\n",
            "geographiclib                    2.0\n",
            "geopandas                        0.13.2\n",
            "geopy                            2.3.0\n",
            "gin-config                       0.5.0\n",
            "glob2                            0.7\n",
            "google                           2.0.3\n",
            "google-api-core                  2.11.1\n",
            "google-api-python-client         2.84.0\n",
            "google-auth                      2.17.3\n",
            "google-auth-httplib2             0.1.0\n",
            "google-auth-oauthlib             1.0.0\n",
            "google-cloud-bigquery            3.10.0\n",
            "google-cloud-bigquery-connection 1.12.0\n",
            "google-cloud-bigquery-storage    2.20.0\n",
            "google-cloud-core                2.3.2\n",
            "google-cloud-datastore           2.15.2\n",
            "google-cloud-firestore           2.11.1\n",
            "google-cloud-functions           1.13.0\n",
            "google-cloud-language            2.9.1\n",
            "google-cloud-storage             2.8.0\n",
            "google-cloud-translate           3.11.1\n",
            "google-colab                     1.0.0\n",
            "google-crc32c                    1.5.0\n",
            "google-pasta                     0.2.0\n",
            "google-resumable-media           2.5.0\n",
            "googleapis-common-protos         1.59.1\n",
            "googledrivedownloader            0.4\n",
            "graphviz                         0.20.1\n",
            "greenlet                         2.0.2\n",
            "grpc-google-iam-v1               0.12.6\n",
            "grpcio                           1.56.0\n",
            "grpcio-status                    1.48.2\n",
            "gspread                          3.4.2\n",
            "gspread-dataframe                3.0.8\n",
            "gym                              0.25.2\n",
            "gym-notices                      0.0.8\n",
            "h5netcdf                         1.2.0\n",
            "h5py                             3.8.0\n",
            "holidays                         0.27.1\n",
            "holoviews                        1.15.4\n",
            "html5lib                         1.1\n",
            "httpimport                       1.3.0\n",
            "httplib2                         0.21.0\n",
            "humanize                         4.6.0\n",
            "hyperopt                         0.2.7\n",
            "idna                             3.4\n",
            "imageio                          2.25.1\n",
            "imageio-ffmpeg                   0.4.8\n",
            "imagesize                        1.4.1\n",
            "imbalanced-learn                 0.10.1\n",
            "imgaug                           0.4.0\n",
            "importlib-resources              5.12.0\n",
            "imutils                          0.5.4\n",
            "inflect                          6.0.4\n",
            "iniconfig                        2.0.0\n",
            "intel-openmp                     2023.1.0\n",
            "ipykernel                        5.5.6\n",
            "ipython                          7.34.0\n",
            "ipython-genutils                 0.2.0\n",
            "ipython-sql                      0.4.1\n",
            "ipywidgets                       7.7.1\n",
            "itsdangerous                     2.1.2\n",
            "jax                              0.4.10\n",
            "jaxlib                           0.4.10+cuda11.cudnn86\n",
            "jieba                            0.42.1\n",
            "Jinja2                           3.1.2\n",
            "joblib                           1.2.0\n",
            "jsonpickle                       3.0.1\n",
            "jsonschema                       4.3.3\n",
            "jupyter-client                   6.1.12\n",
            "jupyter-console                  6.1.0\n",
            "jupyter_core                     5.3.1\n",
            "jupyter-server                   1.24.0\n",
            "jupyterlab-pygments              0.2.2\n",
            "jupyterlab-widgets               3.0.7\n",
            "kaggle                           1.5.13\n",
            "keras                            2.12.0\n",
            "kiwisolver                       1.4.4\n",
            "langcodes                        3.3.0\n",
            "lazy_loader                      0.2\n",
            "libclang                         16.0.0\n",
            "librosa                          0.10.0.post2\n",
            "lightgbm                         3.3.5\n",
            "lit                              16.0.6\n",
            "llvmlite                         0.39.1\n",
            "locket                           1.0.0\n",
            "logical-unification              0.4.6\n",
            "LunarCalendar                    0.0.9\n",
            "lxml                             4.9.2\n",
            "Markdown                         3.4.3\n",
            "markdown-it-py                   3.0.0\n",
            "MarkupSafe                       2.1.3\n",
            "matplotlib                       3.7.1\n",
            "matplotlib-inline                0.1.6\n",
            "matplotlib-venn                  0.11.9\n",
            "mdurl                            0.1.2\n",
            "miniKanren                       1.0.3\n",
            "missingno                        0.5.2\n",
            "mistune                          0.8.4\n",
            "mizani                           0.8.1\n",
            "mkl                              2019.0\n",
            "ml-dtypes                        0.2.0\n",
            "mlxtend                          0.14.0\n",
            "more-itertools                   9.1.0\n",
            "moviepy                          1.0.3\n",
            "mpmath                           1.3.0\n",
            "msgpack                          1.0.5\n",
            "multidict                        6.0.4\n",
            "multipledispatch                 0.6.0\n",
            "multitasking                     0.0.11\n",
            "murmurhash                       1.0.9\n",
            "music21                          8.1.0\n",
            "natsort                          8.3.1\n",
            "nbclient                         0.8.0\n",
            "nbconvert                        6.5.4\n",
            "nbformat                         5.9.0\n",
            "nest-asyncio                     1.5.6\n",
            "networkx                         3.1\n",
            "nibabel                          3.0.2\n",
            "nltk                             3.8.1\n",
            "notebook                         6.4.8\n",
            "numba                            0.56.4\n",
            "numexpr                          2.8.4\n",
            "numpy                            1.22.4\n",
            "oauth2client                     4.1.3\n",
            "oauthlib                         3.2.2\n",
            "opencv-contrib-python            4.7.0.72\n",
            "opencv-python                    4.7.0.72\n",
            "opencv-python-headless           4.7.0.72\n",
            "openpyxl                         3.0.10\n",
            "opt-einsum                       3.3.0\n",
            "optax                            0.1.5\n",
            "orbax-checkpoint                 0.2.6\n",
            "osqp                             0.6.2.post8\n",
            "packaging                        23.1\n",
            "palettable                       3.3.3\n",
            "pandas                           1.5.3\n",
            "pandas-datareader                0.10.0\n",
            "pandas-gbq                       0.17.9\n",
            "pandocfilters                    1.5.0\n",
            "panel                            0.14.4\n",
            "param                            1.13.0\n",
            "parso                            0.8.3\n",
            "partd                            1.4.0\n",
            "pathlib                          1.0.1\n",
            "pathy                            0.10.2\n",
            "patsy                            0.5.3\n",
            "pexpect                          4.8.0\n",
            "pickleshare                      0.7.5\n",
            "Pillow                           8.4.0\n",
            "pip                              23.1.2\n",
            "pip-tools                        6.13.0\n",
            "platformdirs                     3.7.0\n",
            "plotly                           5.13.1\n",
            "plotnine                         0.10.1\n",
            "pluggy                           1.2.0\n",
            "polars                           0.17.3\n",
            "pooch                            1.6.0\n",
            "portpicker                       1.5.2\n",
            "prefetch-generator               1.0.3\n",
            "preshed                          3.0.8\n",
            "prettytable                      0.7.2\n",
            "proglog                          0.1.10\n",
            "progressbar2                     4.2.0\n",
            "prometheus-client                0.17.0\n",
            "promise                          2.3\n",
            "prompt-toolkit                   3.0.38\n",
            "prophet                          1.1.4\n",
            "proto-plus                       1.22.3\n",
            "protobuf                         3.20.3\n",
            "psutil                           5.9.5\n",
            "psycopg2                         2.9.6\n",
            "ptyprocess                       0.7.0\n",
            "py-cpuinfo                       9.0.0\n",
            "py4j                             0.10.9.7\n",
            "pyarrow                          9.0.0\n",
            "pyasn1                           0.5.0\n",
            "pyasn1-modules                   0.3.0\n",
            "pycocotools                      2.0.6\n",
            "pycparser                        2.21\n",
            "pyct                             0.5.0\n",
            "pydantic                         1.10.9\n",
            "pydata-google-auth               1.8.0\n",
            "pydot                            1.4.2\n",
            "pydot-ng                         2.0.0\n",
            "pydotplus                        2.0.2\n",
            "PyDrive                          1.3.1\n",
            "pyerfa                           2.0.0.3\n",
            "pygame                           2.4.0\n",
            "Pygments                         2.14.0\n",
            "PyGObject                        3.36.0\n",
            "pymc                             5.1.2\n",
            "PyMeeus                          0.5.12\n",
            "pymystem3                        0.2.0\n",
            "PyOpenGL                         3.1.7\n",
            "pyparsing                        3.1.0\n",
            "pyproj                           3.6.0\n",
            "pyproject_hooks                  1.0.0\n",
            "pyrsistent                       0.19.3\n",
            "PySocks                          1.7.1\n",
            "pytensor                         2.10.1\n",
            "pytest                           7.2.2\n",
            "python-apt                       0.0.0\n",
            "python-dateutil                  2.8.2\n",
            "python-louvain                   0.16\n",
            "python-slugify                   8.0.1\n",
            "python-utils                     3.7.0\n",
            "pytz                             2022.7.1\n",
            "pyviz-comms                      2.3.2\n",
            "PyWavelets                       1.4.1\n",
            "PyYAML                           6.0\n",
            "pyzmq                            23.2.1\n",
            "qdldl                            0.1.7\n",
            "qudida                           0.0.4\n",
            "regex                            2022.10.31\n",
            "requests                         2.27.1\n",
            "requests-oauthlib                1.3.1\n",
            "requests-unixsocket              0.2.0\n",
            "requirements-parser              0.5.0\n",
            "rich                             13.4.2\n",
            "rpy2                             3.5.5\n",
            "rsa                              4.9\n",
            "scikit-image                     0.19.3\n",
            "scikit-learn                     1.2.2\n",
            "scipy                            1.10.1\n",
            "scs                              3.2.3\n",
            "seaborn                          0.12.2\n",
            "Send2Trash                       1.8.2\n",
            "setuptools                       67.7.2\n",
            "shapely                          2.0.1\n",
            "six                              1.16.0\n",
            "sklearn-pandas                   2.2.0\n",
            "smart-open                       6.3.0\n",
            "sniffio                          1.3.0\n",
            "snowballstemmer                  2.2.0\n",
            "sortedcontainers                 2.4.0\n",
            "soundfile                        0.12.1\n",
            "soupsieve                        2.4.1\n",
            "soxr                             0.3.5\n",
            "spacy                            3.5.3\n",
            "spacy-legacy                     3.0.12\n",
            "spacy-loggers                    1.0.4\n",
            "Sphinx                           3.5.4\n",
            "sphinxcontrib-applehelp          1.0.4\n",
            "sphinxcontrib-devhelp            1.0.2\n",
            "sphinxcontrib-htmlhelp           2.0.1\n",
            "sphinxcontrib-jsmath             1.0.1\n",
            "sphinxcontrib-qthelp             1.0.3\n",
            "sphinxcontrib-serializinghtml    1.1.5\n",
            "SQLAlchemy                       2.0.16\n",
            "sqlparse                         0.4.4\n",
            "srsly                            2.4.6\n",
            "statsmodels                      0.13.5\n",
            "sympy                            1.11.1\n",
            "tables                           3.8.0\n",
            "tabulate                         0.8.10\n",
            "tblib                            2.0.0\n",
            "tenacity                         8.2.2\n",
            "tensorboard                      2.12.3\n",
            "tensorboard-data-server          0.7.1\n",
            "tensorflow                       2.12.0\n",
            "tensorflow-datasets              4.9.2\n",
            "tensorflow-estimator             2.12.0\n",
            "tensorflow-gcs-config            2.12.0\n",
            "tensorflow-hub                   0.13.0\n",
            "tensorflow-io-gcs-filesystem     0.32.0\n",
            "tensorflow-metadata              1.13.1\n",
            "tensorflow-probability           0.20.1\n",
            "tensorstore                      0.1.38\n",
            "termcolor                        2.3.0\n",
            "terminado                        0.17.1\n",
            "text-unidecode                   1.3\n",
            "textblob                         0.17.1\n",
            "tf-slim                          1.1.0\n",
            "thinc                            8.1.10\n",
            "threadpoolctl                    3.1.0\n",
            "tifffile                         2023.4.12\n",
            "tinycss2                         1.2.1\n",
            "toml                             0.10.2\n",
            "tomli                            2.0.1\n",
            "toolz                            0.12.0\n",
            "torch                            2.0.1+cu118\n",
            "torchaudio                       2.0.2+cu118\n",
            "torchdata                        0.6.1\n",
            "torchsummary                     1.5.1\n",
            "torchtext                        0.15.2\n",
            "torchvision                      0.15.2+cu118\n",
            "tornado                          6.3.1\n",
            "tqdm                             4.65.0\n",
            "traitlets                        5.7.1\n",
            "triton                           2.0.0\n",
            "tweepy                           4.13.0\n",
            "typer                            0.7.0\n",
            "types-setuptools                 68.0.0.0\n",
            "typing_extensions                4.6.3\n",
            "tzlocal                          5.0.1\n",
            "uritemplate                      4.1.1\n",
            "urllib3                          1.26.16\n",
            "vega-datasets                    0.9.0\n",
            "wasabi                           1.1.2\n",
            "wcwidth                          0.2.6\n",
            "webcolors                        1.13\n",
            "webencodings                     0.5.1\n",
            "websocket-client                 1.6.0\n",
            "Werkzeug                         2.3.6\n",
            "wheel                            0.40.0\n",
            "widgetsnbextension               3.6.4\n",
            "wordcloud                        1.8.2.2\n",
            "wrapt                            1.14.1\n",
            "xarray                           2022.12.0\n",
            "xarray-einstats                  0.5.1\n",
            "xgboost                          1.7.6\n",
            "xlrd                             2.0.1\n",
            "yarl                             1.9.2\n",
            "yellowbrick                      1.5\n",
            "yfinance                         0.2.21\n",
            "zict                             3.0.0\n",
            "zipp                             3.15.0\n"
          ]
        }
      ]
    },
    {
      "cell_type": "code",
      "source": [],
      "metadata": {
        "id": "AGtUBCqWKoUd"
      },
      "execution_count": null,
      "outputs": []
    },
    {
      "cell_type": "markdown",
      "source": [
        "## **How to give input and take output data in Python**"
      ],
      "metadata": {
        "id": "KJjTGzVjIsZx"
      }
    },
    {
      "cell_type": "code",
      "source": [
        "a = 5 # assigning value \"5\" to a variable \"a\"\n",
        "b = 10.56 # assigning value \"10.56\" to a variable \"b\"\n",
        "print(a)\n",
        "print(b)\n",
        "print(a,b)\n",
        "print(type(a)) # check the data type\n",
        "print(type(b))"
      ],
      "metadata": {
        "id": "Xh7jL3RTF_Bv",
        "colab": {
          "base_uri": "https://localhost:8080/"
        },
        "outputId": "61a45072-1067-4821-941e-037e31d82de5"
      },
      "execution_count": null,
      "outputs": [
        {
          "output_type": "stream",
          "name": "stdout",
          "text": [
            "5\n",
            "10.56\n",
            "5 10.56\n",
            "<class 'int'>\n",
            "<class 'float'>\n"
          ]
        }
      ]
    },
    {
      "cell_type": "code",
      "source": [],
      "metadata": {
        "id": "ED1IwcnPKpUd"
      },
      "execution_count": null,
      "outputs": []
    },
    {
      "cell_type": "code",
      "source": [
        "print(\"The value of a is\",a)"
      ],
      "metadata": {
        "id": "sDJ4t-YKJUOg",
        "colab": {
          "base_uri": "https://localhost:8080/"
        },
        "outputId": "4ba02448-0b00-46d5-a1b3-326dd1ad6c14"
      },
      "execution_count": null,
      "outputs": [
        {
          "output_type": "stream",
          "name": "stdout",
          "text": [
            "The value of a is 5\n"
          ]
        }
      ]
    },
    {
      "cell_type": "code",
      "source": [
        "print(b,'is the value of b')"
      ],
      "metadata": {
        "id": "SqK6K4qhJc2Q",
        "colab": {
          "base_uri": "https://localhost:8080/"
        },
        "outputId": "3cf494d0-b40e-4ffd-a34f-050200aebc4f"
      },
      "execution_count": null,
      "outputs": [
        {
          "output_type": "stream",
          "name": "stdout",
          "text": [
            "10.56 is the value of b\n"
          ]
        }
      ]
    },
    {
      "cell_type": "code",
      "source": [],
      "metadata": {
        "id": "D9-UQt8xKrRN"
      },
      "execution_count": null,
      "outputs": []
    },
    {
      "cell_type": "code",
      "source": [
        "c = 'Python in single quotes'\n",
        "d = \"Python in double quotes\"\n",
        "e = '''Python in triple quotes (single)'''\n",
        "f = \"\"\"Python in double quotes (double)\"\"\"\n",
        "print(c,' ',d,' ',e,' ',f)\n",
        "print(type(c))\n",
        "print(type(d), type(e), type(f))"
      ],
      "metadata": {
        "id": "dYFbj4gXJhvg",
        "colab": {
          "base_uri": "https://localhost:8080/"
        },
        "outputId": "06156c06-2f00-4826-ed0a-11d796ac58e5"
      },
      "execution_count": null,
      "outputs": [
        {
          "output_type": "stream",
          "name": "stdout",
          "text": [
            "Python in single quotes   Python in double quotes   Python in triple quotes (single)   Python in double quotes (double)\n",
            "<class 'str'>\n",
            "<class 'str'> <class 'str'> <class 'str'>\n"
          ]
        }
      ]
    },
    {
      "cell_type": "code",
      "source": [],
      "metadata": {
        "id": "GNpy1sl4Kr_1"
      },
      "execution_count": null,
      "outputs": []
    },
    {
      "cell_type": "markdown",
      "source": [
        "## **Why Triple quotes in Python**\n",
        "###1. Multiline Assignment"
      ],
      "metadata": {
        "id": "n7If_NBxNDMY"
      }
    },
    {
      "cell_type": "code",
      "source": [
        "e = '''Python\n",
        "is a\n",
        "funny language'''\n",
        "print(e)"
      ],
      "metadata": {
        "id": "itxHi4IVJ_bQ",
        "colab": {
          "base_uri": "https://localhost:8080/"
        },
        "outputId": "8eefa738-56b9-4c4f-c829-f3129a76a155"
      },
      "execution_count": null,
      "outputs": [
        {
          "output_type": "stream",
          "name": "stdout",
          "text": [
            "Python\n",
            "is a\n",
            "funny language\n"
          ]
        }
      ]
    },
    {
      "cell_type": "code",
      "source": [],
      "metadata": {
        "id": "lHIzsTlNPROX"
      },
      "execution_count": null,
      "outputs": []
    },
    {
      "cell_type": "markdown",
      "source": [
        "###2. Multiline Comment"
      ],
      "metadata": {
        "id": "sy0Gbv6JNaHX"
      }
    },
    {
      "cell_type": "code",
      "source": [
        "\"\"\"This is\n",
        "a\n",
        "multiline comment\"\"\"\n",
        "g = \"Learning python is fun\"\n",
        "print(g)"
      ],
      "metadata": {
        "id": "Nvmsg9tHKa_w",
        "colab": {
          "base_uri": "https://localhost:8080/"
        },
        "outputId": "daf250d7-18de-45b3-ab15-88dc5b780674"
      },
      "execution_count": null,
      "outputs": [
        {
          "output_type": "stream",
          "name": "stdout",
          "text": [
            "Learning python is fun\n"
          ]
        }
      ]
    },
    {
      "cell_type": "code",
      "source": [],
      "metadata": {
        "id": "dDXdkZp4PRvP"
      },
      "execution_count": null,
      "outputs": []
    },
    {
      "cell_type": "markdown",
      "source": [
        "###3. Avoiding certain escape sequence characters"
      ],
      "metadata": {
        "id": "g_itLZatNnUP"
      }
    },
    {
      "cell_type": "code",
      "source": [
        "h = '''\"When you don't assign a variable to a string like above, Python treats it as a multiline comment\"'''\n",
        "print(h)"
      ],
      "metadata": {
        "id": "p6otoODRKiZA",
        "colab": {
          "base_uri": "https://localhost:8080/"
        },
        "outputId": "6a0c0842-6115-4455-c718-71309f6de718"
      },
      "execution_count": null,
      "outputs": [
        {
          "output_type": "stream",
          "name": "stdout",
          "text": [
            "\"When you don't assign a variable to a string like above, Python treats it as a multiline comment\"\n"
          ]
        }
      ]
    },
    {
      "cell_type": "code",
      "source": [],
      "metadata": {
        "id": "EmUV4ADhKz0-"
      },
      "execution_count": null,
      "outputs": []
    },
    {
      "cell_type": "markdown",
      "source": [
        "### **User Defined Inputs**"
      ],
      "metadata": {
        "id": "VYqht01Tyk2d"
      }
    },
    {
      "cell_type": "code",
      "source": [
        "u = input()\n",
        "print('The user defined input is:',u)"
      ],
      "metadata": {
        "id": "4nXGWS2byqDt",
        "colab": {
          "base_uri": "https://localhost:8080/"
        },
        "outputId": "b60c26f1-f7f2-4afe-c8c1-dc1dcf800465"
      },
      "execution_count": null,
      "outputs": [
        {
          "output_type": "stream",
          "name": "stdout",
          "text": [
            "5\n",
            "The user defined input is: 5\n"
          ]
        }
      ]
    },
    {
      "cell_type": "code",
      "source": [],
      "metadata": {
        "id": "jCa92iFRPPjf"
      },
      "execution_count": null,
      "outputs": []
    },
    {
      "cell_type": "code",
      "source": [
        "u = input('Enter some value:')\n",
        "print('The user defined input is:',u)"
      ],
      "metadata": {
        "id": "g1Tdjc7UzAgv",
        "colab": {
          "base_uri": "https://localhost:8080/"
        },
        "outputId": "702e20a1-3731-462e-e16e-c21e664aa7d9"
      },
      "execution_count": null,
      "outputs": [
        {
          "output_type": "stream",
          "name": "stdout",
          "text": [
            "Enter some value:5\n",
            "The user defined input is: 5\n"
          ]
        }
      ]
    },
    {
      "cell_type": "code",
      "source": [],
      "metadata": {
        "id": "LbIo2S5DPQAH"
      },
      "execution_count": null,
      "outputs": []
    },
    {
      "cell_type": "code",
      "source": [
        "u1 = input('Enter 1st value:')\n",
        "u2 = input('Enter 2nd value:')\n",
        "print('The sum is:',u1 + u2)"
      ],
      "metadata": {
        "id": "jm5o2BOwzAsW",
        "colab": {
          "base_uri": "https://localhost:8080/"
        },
        "outputId": "0c619d2b-1088-4832-d393-b45d2cfa2341"
      },
      "execution_count": null,
      "outputs": [
        {
          "output_type": "stream",
          "name": "stdout",
          "text": [
            "Enter 1st value:5\n",
            "Enter 2nd value:4\n",
            "The sum is: 54\n"
          ]
        }
      ]
    },
    {
      "cell_type": "code",
      "source": [],
      "metadata": {
        "id": "jfjKJ3NVOtUw"
      },
      "execution_count": null,
      "outputs": []
    },
    {
      "cell_type": "code",
      "source": [
        "u1 = int(input('Enter 1st value:'))\n",
        "u2 = int(input('Enter 2nd value:'))\n",
        "print('The sum is:',u1 + u2)"
      ],
      "metadata": {
        "id": "OySXGA-szKud",
        "colab": {
          "base_uri": "https://localhost:8080/"
        },
        "outputId": "efc139cf-d2ee-4d84-d76d-557369ad2905"
      },
      "execution_count": null,
      "outputs": [
        {
          "output_type": "stream",
          "name": "stdout",
          "text": [
            "Enter 1st value:5\n",
            "Enter 2nd value:4\n",
            "The sum is: 9\n"
          ]
        }
      ]
    },
    {
      "cell_type": "code",
      "source": [],
      "metadata": {
        "id": "Qqc1hICfPOfn"
      },
      "execution_count": null,
      "outputs": []
    },
    {
      "cell_type": "code",
      "source": [
        "u1 = int(input('Enter 1st value:'))\n",
        "u2 = float(input('Enter 2nd value:'))\n",
        "print('The sum is:',u1 + u2)"
      ],
      "metadata": {
        "id": "Dgmn1p0jzKyb",
        "colab": {
          "base_uri": "https://localhost:8080/"
        },
        "outputId": "32e0c4a3-ef5b-4c73-bfa7-f6b1abafed19"
      },
      "execution_count": null,
      "outputs": [
        {
          "output_type": "stream",
          "name": "stdout",
          "text": [
            "Enter 1st value:5\n",
            "Enter 2nd value:4\n",
            "The sum is: 9.0\n"
          ]
        }
      ]
    },
    {
      "cell_type": "code",
      "source": [],
      "metadata": {
        "id": "I4-FqlGhPODI"
      },
      "execution_count": null,
      "outputs": []
    },
    {
      "cell_type": "markdown",
      "source": [
        "### **Using split() function**"
      ],
      "metadata": {
        "id": "-fc3ugdWK3mI"
      }
    },
    {
      "cell_type": "code",
      "source": [
        "a, b = input().split(',')\n",
        "print(a,b)"
      ],
      "metadata": {
        "id": "VS8KnoyDLAwJ",
        "colab": {
          "base_uri": "https://localhost:8080/"
        },
        "outputId": "3f2a09df-0540-4c4f-8926-c7c6118a0098"
      },
      "execution_count": null,
      "outputs": [
        {
          "output_type": "stream",
          "name": "stdout",
          "text": [
            "5,4\n",
            "5 4\n"
          ]
        }
      ]
    },
    {
      "cell_type": "code",
      "source": [],
      "metadata": {
        "id": "eKoOfw5NLdeP"
      },
      "execution_count": null,
      "outputs": []
    },
    {
      "cell_type": "markdown",
      "source": [
        "## **Type Conversion**"
      ],
      "metadata": {
        "id": "npjvA9BK0HOk"
      }
    },
    {
      "cell_type": "code",
      "source": [
        "a = 5\n",
        "b = '7'\n",
        "print(a + b)"
      ],
      "metadata": {
        "id": "4LOQ4x4v0Nai",
        "colab": {
          "base_uri": "https://localhost:8080/",
          "height": 200
        },
        "outputId": "9f807c51-8a35-4599-d762-2efeaa0f5212"
      },
      "execution_count": null,
      "outputs": [
        {
          "output_type": "error",
          "ename": "TypeError",
          "evalue": "ignored",
          "traceback": [
            "\u001b[0;31m---------------------------------------------------------------------------\u001b[0m",
            "\u001b[0;31mTypeError\u001b[0m                                 Traceback (most recent call last)",
            "\u001b[0;32m<ipython-input-21-06fdf01f3d6c>\u001b[0m in \u001b[0;36m<cell line: 3>\u001b[0;34m()\u001b[0m\n\u001b[1;32m      1\u001b[0m \u001b[0ma\u001b[0m \u001b[0;34m=\u001b[0m \u001b[0;36m5\u001b[0m\u001b[0;34m\u001b[0m\u001b[0;34m\u001b[0m\u001b[0m\n\u001b[1;32m      2\u001b[0m \u001b[0mb\u001b[0m \u001b[0;34m=\u001b[0m \u001b[0;34m'7'\u001b[0m\u001b[0;34m\u001b[0m\u001b[0;34m\u001b[0m\u001b[0m\n\u001b[0;32m----> 3\u001b[0;31m \u001b[0mprint\u001b[0m\u001b[0;34m(\u001b[0m\u001b[0ma\u001b[0m \u001b[0;34m+\u001b[0m \u001b[0mb\u001b[0m\u001b[0;34m)\u001b[0m\u001b[0;34m\u001b[0m\u001b[0;34m\u001b[0m\u001b[0m\n\u001b[0m",
            "\u001b[0;31mTypeError\u001b[0m: unsupported operand type(s) for +: 'int' and 'str'"
          ]
        }
      ]
    },
    {
      "cell_type": "code",
      "source": [],
      "metadata": {
        "id": "gxLyx4j7PNAe"
      },
      "execution_count": null,
      "outputs": []
    },
    {
      "cell_type": "code",
      "source": [
        "a = 5\n",
        "b = '7'\n",
        "print(a + int(b))"
      ],
      "metadata": {
        "id": "ld9FNMwV0Ndr",
        "colab": {
          "base_uri": "https://localhost:8080/"
        },
        "outputId": "e8e577c9-2042-49a0-f8d4-45b0e7fb228c"
      },
      "execution_count": null,
      "outputs": [
        {
          "output_type": "stream",
          "name": "stdout",
          "text": [
            "12\n"
          ]
        }
      ]
    },
    {
      "cell_type": "code",
      "source": [],
      "metadata": {
        "id": "fm914IQfPMkX"
      },
      "execution_count": null,
      "outputs": []
    },
    {
      "cell_type": "code",
      "source": [
        "a = 5\n",
        "b = '7'\n",
        "print(str(a) + b)"
      ],
      "metadata": {
        "id": "-YgxXPRV0cex",
        "colab": {
          "base_uri": "https://localhost:8080/"
        },
        "outputId": "75ea2a0a-105f-4aa6-faaf-0b9e3913c7b8"
      },
      "execution_count": null,
      "outputs": [
        {
          "output_type": "stream",
          "name": "stdout",
          "text": [
            "57\n"
          ]
        }
      ]
    },
    {
      "cell_type": "code",
      "source": [],
      "metadata": {
        "id": "dOu0DkfTLeaA"
      },
      "execution_count": null,
      "outputs": []
    },
    {
      "cell_type": "markdown",
      "source": [
        "## **Operators in Python**\n",
        "###1. **Arithmetic Operators** +, -, /, //, *, **, %\n",
        "\n"
      ],
      "metadata": {
        "id": "G887qJDMa9EE"
      }
    },
    {
      "cell_type": "code",
      "source": [
        "a = 5\n",
        "b = 10\n",
        "print('Addition:', a+b)\n",
        "print('Subtraction:', a-b)\n",
        "print('Multiplication:', a*b)\n",
        "print('Division (gives quotient):', a/b)\n",
        "print('Floor Division (gives quotient):', a//b)\n",
        "print('Mod Operator (gives remainder):', a%b)\n",
        "print('Raised to (power):', a**2)"
      ],
      "metadata": {
        "id": "Dn7KRNk7esqJ",
        "colab": {
          "base_uri": "https://localhost:8080/"
        },
        "outputId": "a2177919-4619-4e72-d302-07d8753501f7"
      },
      "execution_count": null,
      "outputs": [
        {
          "output_type": "stream",
          "name": "stdout",
          "text": [
            "Addition: 15\n",
            "Subtraction: -5\n",
            "Multiplication: 50\n",
            "Division (gives quotient): 0.5\n",
            "Floor Division (gives quotient): 0\n",
            "Mod Operator (gives remainder): 5\n",
            "Raised to (power): 25\n"
          ]
        }
      ]
    },
    {
      "cell_type": "code",
      "source": [],
      "metadata": {
        "id": "Os_1XleVPLsn"
      },
      "execution_count": null,
      "outputs": []
    },
    {
      "cell_type": "markdown",
      "source": [
        "### **2. Comparison Operators ==, !=, <, >, <=, >=**"
      ],
      "metadata": {
        "id": "_GVn6xZijTPH"
      }
    },
    {
      "cell_type": "code",
      "source": [
        "a = 5\n",
        "b = 10\n",
        "print('Equal:', a==b)\n",
        "print('Not Equal:', a != b)\n",
        "print('Greater Than:', a>b)\n",
        "print('Less Than:', a<b)\n",
        "print('Greater Than or Equal To:', a>=b)\n",
        "print('Less Than or Equal To:', a<=b)"
      ],
      "metadata": {
        "id": "cgeSw4FIf70q",
        "colab": {
          "base_uri": "https://localhost:8080/"
        },
        "outputId": "bfcb7c24-33f7-4cef-d0fb-9300f72bd728"
      },
      "execution_count": null,
      "outputs": [
        {
          "output_type": "stream",
          "name": "stdout",
          "text": [
            "Equal: False\n",
            "Not Equal: True\n",
            "Greater Than: False\n",
            "Less Than: True\n",
            "Greater Than or Equal To: False\n",
            "Less Than or Equal To: True\n"
          ]
        }
      ]
    },
    {
      "cell_type": "code",
      "source": [],
      "metadata": {
        "id": "pN97cXZWPLPn"
      },
      "execution_count": null,
      "outputs": []
    },
    {
      "cell_type": "markdown",
      "source": [
        "### **3. Logical Operators AND, OR, NOT**"
      ],
      "metadata": {
        "id": "2RP_OG2xjZUI"
      }
    },
    {
      "cell_type": "code",
      "source": [
        "a = 5\n",
        "b = 10\n",
        "print('AND:', a >= 5 and b < 11) # all conditions have to be true\n",
        "print('OR:', a < 7 or b > 11) # any single condition can be true\n",
        "print('NOT:', not (a == 5)) # gives the complement"
      ],
      "metadata": {
        "id": "NYQQt2g6hIOB",
        "colab": {
          "base_uri": "https://localhost:8080/"
        },
        "outputId": "16c1aefd-a50c-4435-c359-73a49910f7b1"
      },
      "execution_count": null,
      "outputs": [
        {
          "output_type": "stream",
          "name": "stdout",
          "text": [
            "AND: True\n",
            "OR: True\n",
            "NOT: False\n"
          ]
        }
      ]
    },
    {
      "cell_type": "markdown",
      "source": [
        "### **4. Identity Operators is, is not**"
      ],
      "metadata": {
        "id": "cAhsZ12cjfFo"
      }
    },
    {
      "cell_type": "code",
      "source": [
        "a = 100\n",
        "b = 99 + 1\n",
        "print(a == b)\n",
        "print(a is b)\n",
        "print(b is not a)"
      ],
      "metadata": {
        "id": "r467uvKgi8dC",
        "colab": {
          "base_uri": "https://localhost:8080/"
        },
        "outputId": "062d5aff-1177-41ac-946e-6d000b430ec9"
      },
      "execution_count": null,
      "outputs": [
        {
          "output_type": "stream",
          "name": "stdout",
          "text": [
            "True\n",
            "True\n",
            "False\n"
          ]
        }
      ]
    },
    {
      "cell_type": "markdown",
      "source": [
        "### But what does **a is b True** actually means ?"
      ],
      "metadata": {
        "id": "Dp0z4ZYeAe8Y"
      }
    },
    {
      "cell_type": "code",
      "source": [
        "a = 100\n",
        "b = 99 + 1\n",
        "print(id(a)) # identity function\n",
        "print(id(b))"
      ],
      "metadata": {
        "id": "DTe74MNrBbAQ",
        "colab": {
          "base_uri": "https://localhost:8080/"
        },
        "outputId": "fa5995da-5f3b-421b-bd0d-002dac1942b4"
      },
      "execution_count": null,
      "outputs": [
        {
          "output_type": "stream",
          "name": "stdout",
          "text": [
            "139925979499856\n",
            "139925979499856\n"
          ]
        }
      ]
    },
    {
      "cell_type": "code",
      "source": [
        "a = 100\n",
        "b = 99 + 1\n",
        "print(hex(id(a)))\n",
        "print(hex(id(b)))"
      ],
      "metadata": {
        "id": "P23tvSMwAayo",
        "colab": {
          "base_uri": "https://localhost:8080/"
        },
        "outputId": "b3fe1082-660a-40d4-e664-48d1f3d2b832"
      },
      "execution_count": null,
      "outputs": [
        {
          "output_type": "stream",
          "name": "stdout",
          "text": [
            "0x7f430e4d8d50\n",
            "0x7f430e4d8d50\n"
          ]
        }
      ]
    },
    {
      "cell_type": "code",
      "source": [],
      "metadata": {
        "id": "v3Z-U2QNPJjP"
      },
      "execution_count": null,
      "outputs": []
    },
    {
      "cell_type": "markdown",
      "source": [
        "###5. **Bitwise Operators** &, |, ~, ^, <<, >>"
      ],
      "metadata": {
        "id": "BLx-keEbj8-4"
      }
    },
    {
      "cell_type": "code",
      "source": [
        "a = 5 # 0101\n",
        "b = 2 # 0010\n",
        "print('Bitwise AND:', a & b) # output is 1 if all inputs are 1\n",
        "print('Bitwise OR:', a | b) # output is 1 if any input is 1\n",
        "print('Bitwise NOT:', ~a) # gives 1s complement --> 0 to 1 and 1 to 0.\n",
        "                          # if left most bit is 1 then take 2s complement\n",
        "                          # and the answer is with negative sign\n",
        "print('Bitwise XOR:', a ^ b) # output is 0 if inputs are same\n",
        "print('Left Shift:', a << 2) # if a << n then multiply a x 2 to the power n\n",
        "print('Right Shift:', b >> 1) # if a >> n then divide a / 2 to the power n"
      ],
      "metadata": {
        "id": "leYWLdaRj_0v",
        "colab": {
          "base_uri": "https://localhost:8080/"
        },
        "outputId": "7880c29b-461e-4a6b-d75a-12e103ac35aa"
      },
      "execution_count": null,
      "outputs": [
        {
          "output_type": "stream",
          "name": "stdout",
          "text": [
            "Bitwise AND: 0\n",
            "Bitwise OR: 7\n",
            "Bitwise NOT: -6\n",
            "Bitwise XOR: 7\n",
            "Left Shift: 20\n",
            "Right Shift: 1\n"
          ]
        }
      ]
    },
    {
      "cell_type": "code",
      "source": [],
      "metadata": {
        "id": "NrxPrZl2LgG4"
      },
      "execution_count": null,
      "outputs": []
    },
    {
      "cell_type": "markdown",
      "source": [
        "## **Conditional Statements**"
      ],
      "metadata": {
        "id": "QO3Skh8zZhm_"
      }
    },
    {
      "cell_type": "markdown",
      "source": [
        "### WAP to find the greatest number"
      ],
      "metadata": {
        "id": "k0wf0qTcZvYY"
      }
    },
    {
      "cell_type": "code",
      "source": [
        "a = 5\n",
        "b = 10\n",
        "if a > b:\n",
        "  print(a,'is greater')\n",
        "else:\n",
        "  print(b,'is greater')"
      ],
      "metadata": {
        "id": "yhC6sZYsZoBa",
        "colab": {
          "base_uri": "https://localhost:8080/"
        },
        "outputId": "b3648262-34b7-44ef-83b7-6fe655f06fae"
      },
      "execution_count": null,
      "outputs": [
        {
          "output_type": "stream",
          "name": "stdout",
          "text": [
            "10 is greater\n"
          ]
        }
      ]
    },
    {
      "cell_type": "code",
      "source": [
        "a = 5\n",
        "b = 5\n",
        "if a > b:\n",
        "  print(a,'is greater')\n",
        "else:\n",
        "  print(b,'is greater')"
      ],
      "metadata": {
        "id": "MFrJnFtGZn-U",
        "colab": {
          "base_uri": "https://localhost:8080/"
        },
        "outputId": "6825b16d-e5d7-4ac4-d018-3db5feac1bc8"
      },
      "execution_count": null,
      "outputs": [
        {
          "output_type": "stream",
          "name": "stdout",
          "text": [
            "5 is greater\n"
          ]
        }
      ]
    },
    {
      "cell_type": "code",
      "source": [
        "a = 5\n",
        "b = 5\n",
        "if a > b:\n",
        "  print(a,'is greater')\n",
        "elif a == b:\n",
        "  print('Both are equal')\n",
        "else:\n",
        "  print(b,'is greater')"
      ],
      "metadata": {
        "id": "kMleftKVZnjy",
        "colab": {
          "base_uri": "https://localhost:8080/"
        },
        "outputId": "f11a772e-c266-4802-d8fd-7f967384c1ee"
      },
      "execution_count": null,
      "outputs": [
        {
          "output_type": "stream",
          "name": "stdout",
          "text": [
            "Both are equal\n"
          ]
        }
      ]
    },
    {
      "cell_type": "code",
      "source": [],
      "metadata": {
        "id": "NgIQoIkoLhEv"
      },
      "execution_count": null,
      "outputs": []
    },
    {
      "cell_type": "markdown",
      "source": [
        "## **Loops in Python**"
      ],
      "metadata": {
        "id": "8nxHwokeae13"
      }
    },
    {
      "cell_type": "code",
      "source": [
        "for i in range(5): # for(i = 0; i < 5; i++)\n",
        "  print(i)"
      ],
      "metadata": {
        "id": "o4D-K_fEaiy-",
        "colab": {
          "base_uri": "https://localhost:8080/"
        },
        "outputId": "0d3446df-b6ac-4161-fe2e-1dd69aeafb9c"
      },
      "execution_count": null,
      "outputs": [
        {
          "output_type": "stream",
          "name": "stdout",
          "text": [
            "0\n",
            "1\n",
            "2\n",
            "3\n",
            "4\n"
          ]
        }
      ]
    },
    {
      "cell_type": "code",
      "source": [
        "for i in range(0,5,1):\n",
        "  print(i)"
      ],
      "metadata": {
        "id": "ekiDT39Nbay9",
        "colab": {
          "base_uri": "https://localhost:8080/"
        },
        "outputId": "81a4f5db-8124-44a7-a4d7-acdb72b684ab"
      },
      "execution_count": null,
      "outputs": [
        {
          "output_type": "stream",
          "name": "stdout",
          "text": [
            "0\n",
            "1\n",
            "2\n",
            "3\n",
            "4\n"
          ]
        }
      ]
    },
    {
      "cell_type": "code",
      "source": [
        "for i in range(0,5,2):\n",
        "  print(i)"
      ],
      "metadata": {
        "id": "9FTwhRZ-ba1_",
        "colab": {
          "base_uri": "https://localhost:8080/"
        },
        "outputId": "10211704-5297-4a0b-bcb6-ed942f437d87"
      },
      "execution_count": null,
      "outputs": [
        {
          "output_type": "stream",
          "name": "stdout",
          "text": [
            "0\n",
            "2\n",
            "4\n"
          ]
        }
      ]
    },
    {
      "cell_type": "code",
      "source": [
        "for i in range(5,0,-1):\n",
        "  print(i)"
      ],
      "metadata": {
        "id": "CXzhh_J6ai2Y",
        "colab": {
          "base_uri": "https://localhost:8080/"
        },
        "outputId": "e61aa19c-97b7-4dd3-8551-d53806a8f722"
      },
      "execution_count": null,
      "outputs": [
        {
          "output_type": "stream",
          "name": "stdout",
          "text": [
            "5\n",
            "4\n",
            "3\n",
            "2\n",
            "1\n"
          ]
        }
      ]
    },
    {
      "cell_type": "code",
      "source": [
        "for x in range(5):\n",
        "  print(x)\n",
        "else:\n",
        "  print(\"Python!\")"
      ],
      "metadata": {
        "id": "1Czm3QGVcIYq",
        "colab": {
          "base_uri": "https://localhost:8080/"
        },
        "outputId": "7f6a8cf5-5856-4f64-867f-f3629c84dece"
      },
      "execution_count": null,
      "outputs": [
        {
          "output_type": "stream",
          "name": "stdout",
          "text": [
            "0\n",
            "1\n",
            "2\n",
            "3\n",
            "4\n",
            "Python!\n"
          ]
        }
      ]
    },
    {
      "cell_type": "code",
      "source": [
        "for x in range(5):\n",
        "  if x == 3:\n",
        "    break\n",
        "  print(x)\n",
        "else:\n",
        "  print(\"Python\")"
      ],
      "metadata": {
        "id": "mhzzRDxXcIqA",
        "colab": {
          "base_uri": "https://localhost:8080/"
        },
        "outputId": "e0f694af-d692-4c4a-eef6-e496c293a423"
      },
      "execution_count": null,
      "outputs": [
        {
          "output_type": "stream",
          "name": "stdout",
          "text": [
            "0\n",
            "1\n",
            "2\n"
          ]
        }
      ]
    },
    {
      "cell_type": "code",
      "source": [
        "for x in range(5):\n",
        "  if x == 3:\n",
        "    continue\n",
        "  print(x)"
      ],
      "metadata": {
        "id": "DdQfjiGVcIta",
        "colab": {
          "base_uri": "https://localhost:8080/"
        },
        "outputId": "69dbfa2d-b377-4011-f1c0-b2e2c4bcd59b"
      },
      "execution_count": null,
      "outputs": [
        {
          "output_type": "stream",
          "name": "stdout",
          "text": [
            "0\n",
            "1\n",
            "2\n",
            "4\n"
          ]
        }
      ]
    },
    {
      "cell_type": "code",
      "source": [
        "a = 5\n",
        "i = 0\n",
        "while i < a:\n",
        "  print(i)\n",
        "  i += 1"
      ],
      "metadata": {
        "id": "-BkrksOLcI7Y",
        "colab": {
          "base_uri": "https://localhost:8080/"
        },
        "outputId": "cc5b0d4c-7afc-419e-89cb-06ece622c8ae"
      },
      "execution_count": null,
      "outputs": [
        {
          "output_type": "stream",
          "name": "stdout",
          "text": [
            "0\n",
            "1\n",
            "2\n",
            "3\n",
            "4\n"
          ]
        }
      ]
    },
    {
      "cell_type": "code",
      "source": [
        "i = 1\n",
        "while i < 6:\n",
        "  print(i)\n",
        "  i += 1\n",
        "else:\n",
        "  print(\"Python\")"
      ],
      "metadata": {
        "id": "BFV2aj3DcI-8",
        "colab": {
          "base_uri": "https://localhost:8080/"
        },
        "outputId": "160fe8bd-6c9d-4d20-acd3-5b4057f8e46d"
      },
      "execution_count": null,
      "outputs": [
        {
          "output_type": "stream",
          "name": "stdout",
          "text": [
            "1\n",
            "2\n",
            "3\n",
            "4\n",
            "5\n",
            "Python\n"
          ]
        }
      ]
    },
    {
      "cell_type": "code",
      "source": [
        "i = 1\n",
        "while i < 6:\n",
        "  print(i)\n",
        "  if i == 3:\n",
        "    break\n",
        "  i += 1\n",
        "else:\n",
        "  print(\"Python\")"
      ],
      "metadata": {
        "id": "cTWHYx6me7_Z",
        "colab": {
          "base_uri": "https://localhost:8080/"
        },
        "outputId": "60347d86-c593-4f10-ba8d-df1071767daa"
      },
      "execution_count": null,
      "outputs": [
        {
          "output_type": "stream",
          "name": "stdout",
          "text": [
            "1\n",
            "2\n",
            "3\n"
          ]
        }
      ]
    },
    {
      "cell_type": "code",
      "source": [],
      "metadata": {
        "id": "HTIqk_ARLi83"
      },
      "execution_count": null,
      "outputs": []
    },
    {
      "cell_type": "markdown",
      "source": [
        "## **Data Structures in Python**\n",
        "###1. List- collection of elements (ideally homogeneous but can be of any datatype)"
      ],
      "metadata": {
        "id": "WOVowI_bOeGA"
      }
    },
    {
      "cell_type": "code",
      "source": [
        "l1 = []\n",
        "print(l1)\n",
        "print(type(l1))"
      ],
      "metadata": {
        "id": "QbEwFQdqODgg",
        "colab": {
          "base_uri": "https://localhost:8080/"
        },
        "outputId": "b47a72fb-da43-46cf-dacf-e05f58e962f6"
      },
      "execution_count": null,
      "outputs": [
        {
          "output_type": "stream",
          "name": "stdout",
          "text": [
            "[]\n",
            "<class 'list'>\n"
          ]
        }
      ]
    },
    {
      "cell_type": "code",
      "source": [
        "# Add elements in a list"
      ],
      "metadata": {
        "id": "pNbrFKfhOzlP"
      },
      "execution_count": null,
      "outputs": []
    },
    {
      "cell_type": "code",
      "source": [
        "l1.append(1) # only one value can be appended using append function\n",
        "print(l1)"
      ],
      "metadata": {
        "id": "WB3bdR-VO4E_",
        "colab": {
          "base_uri": "https://localhost:8080/"
        },
        "outputId": "afc6af3b-07dd-4de8-96dc-cda737955272"
      },
      "execution_count": null,
      "outputs": [
        {
          "output_type": "stream",
          "name": "stdout",
          "text": [
            "[1]\n"
          ]
        }
      ]
    },
    {
      "cell_type": "code",
      "source": [
        "l1.append(3)"
      ],
      "metadata": {
        "id": "zIo1R4MNPQ-w"
      },
      "execution_count": null,
      "outputs": []
    },
    {
      "cell_type": "code",
      "source": [
        "print(l1)"
      ],
      "metadata": {
        "id": "sivY_zw2PUXQ",
        "colab": {
          "base_uri": "https://localhost:8080/"
        },
        "outputId": "e6809310-b465-4fe6-d7e0-4d8e8e84bfff"
      },
      "execution_count": null,
      "outputs": [
        {
          "output_type": "stream",
          "name": "stdout",
          "text": [
            "[1, 3]\n"
          ]
        }
      ]
    },
    {
      "cell_type": "code",
      "source": [
        "l1.append(-4)\n",
        "print(l1)"
      ],
      "metadata": {
        "id": "zihmDGPHPXPw",
        "colab": {
          "base_uri": "https://localhost:8080/"
        },
        "outputId": "09b3ceb9-da27-4f9f-b96d-860054499504"
      },
      "execution_count": null,
      "outputs": [
        {
          "output_type": "stream",
          "name": "stdout",
          "text": [
            "[1, 3, -4]\n"
          ]
        }
      ]
    },
    {
      "cell_type": "markdown",
      "source": [
        "### using append function whatever may be the value it's always gets appended in the last position."
      ],
      "metadata": {
        "id": "uF9BDicNPmR3"
      }
    },
    {
      "cell_type": "code",
      "source": [
        "l1.extend([10,-13,45])\n",
        "print(l1)"
      ],
      "metadata": {
        "id": "OQTae4ZyPbJg",
        "colab": {
          "base_uri": "https://localhost:8080/"
        },
        "outputId": "d1394154-7619-41ee-dd9b-acefb9235db0"
      },
      "execution_count": null,
      "outputs": [
        {
          "output_type": "stream",
          "name": "stdout",
          "text": [
            "[1, 3, -4, 10, -13, 45]\n"
          ]
        }
      ]
    },
    {
      "cell_type": "markdown",
      "source": [
        "### Using extend function we can append more than 1 value in the list but it is also going at the last."
      ],
      "metadata": {
        "id": "3jiMd5TuQAl_"
      }
    },
    {
      "cell_type": "markdown",
      "source": [
        "## Before doing insertion at specific position let's talk about position or **indexing** in lists"
      ],
      "metadata": {
        "id": "vMEI4qzppNXr"
      }
    },
    {
      "cell_type": "code",
      "source": [
        "l1 = [1, 3, -4, 10, -13, 45]\n",
        "print(l1[0]) # 1st element from left side\n",
        "print(l1[-1]) # 1st element from right side"
      ],
      "metadata": {
        "id": "hcflLFQXptqx",
        "colab": {
          "base_uri": "https://localhost:8080/"
        },
        "outputId": "6f7c4225-70dc-4206-f4fd-51a1ad7704f2"
      },
      "execution_count": null,
      "outputs": [
        {
          "output_type": "stream",
          "name": "stdout",
          "text": [
            "1\n",
            "45\n"
          ]
        }
      ]
    },
    {
      "cell_type": "code",
      "source": [
        "print(l1[:]) # all elements of the list from start to end\n",
        "print(l1[0:]) # all elements of the list starting from 0th index\n",
        "print(l1[:-1]) # all elements of the list excluding the element at -1th position\n",
        "print(l1[::2]) # print all elements but with step size 2"
      ],
      "metadata": {
        "id": "7x4jHWxhpuOK",
        "colab": {
          "base_uri": "https://localhost:8080/"
        },
        "outputId": "26a47724-f98d-4893-91d8-bab965db8adb"
      },
      "execution_count": null,
      "outputs": [
        {
          "output_type": "stream",
          "name": "stdout",
          "text": [
            "[1, 3, -4, 10, -13, 45]\n",
            "[1, 3, -4, 10, -13, 45]\n",
            "[1, 3, -4, 10, -13]\n",
            "[1, -4, -13]\n"
          ]
        }
      ]
    },
    {
      "cell_type": "markdown",
      "source": [
        "### Using insert we can insert a value at any specific position. the syntax is **listvariable.insert(position, value)**"
      ],
      "metadata": {
        "id": "74di4UknQhU_"
      }
    },
    {
      "cell_type": "code",
      "source": [
        "l1.insert(0,100)\n",
        "print(l1)"
      ],
      "metadata": {
        "id": "_Ri6lBUqP8e_",
        "colab": {
          "base_uri": "https://localhost:8080/"
        },
        "outputId": "81f711e1-8a0a-432b-9e92-ef7b8fbc797a"
      },
      "execution_count": null,
      "outputs": [
        {
          "output_type": "stream",
          "name": "stdout",
          "text": [
            "[100, 1, 3, -4, 10, -13, 45]\n"
          ]
        }
      ]
    },
    {
      "cell_type": "markdown",
      "source": [
        "### At this point we can see for our last operator type in python **Membership Operator**"
      ],
      "metadata": {
        "id": "X-9TqAUMnj9Z"
      }
    },
    {
      "cell_type": "code",
      "source": [
        "l1 = [100, 1, 3, -4, 10, -13, 45]\n",
        "print(100 in l1)\n",
        "print(101 not in l1)"
      ],
      "metadata": {
        "id": "QsvhBSbdnqlg",
        "colab": {
          "base_uri": "https://localhost:8080/"
        },
        "outputId": "1148085f-f579-44a8-a01b-7a2d64c5dc47"
      },
      "execution_count": null,
      "outputs": [
        {
          "output_type": "stream",
          "name": "stdout",
          "text": [
            "True\n",
            "True\n"
          ]
        }
      ]
    },
    {
      "cell_type": "markdown",
      "source": [
        "## **Copying one List elements to another list elements**"
      ],
      "metadata": {
        "id": "yBkMpzQvVuQ_"
      }
    },
    {
      "cell_type": "code",
      "source": [
        "l1 = [100, 1, 3, -4, 10, -13, 45]\n",
        "l2 = l1\n",
        "print('Original list elements:',l1)\n",
        "print('New list elements:',l2)"
      ],
      "metadata": {
        "id": "n_kIbABDQVc_",
        "colab": {
          "base_uri": "https://localhost:8080/"
        },
        "outputId": "20160e44-d357-44f0-e55b-f8c790a80fb2"
      },
      "execution_count": null,
      "outputs": [
        {
          "output_type": "stream",
          "name": "stdout",
          "text": [
            "Original list elements: [100, 1, 3, -4, 10, -13, 45]\n",
            "New list elements: [100, 1, 3, -4, 10, -13, 45]\n"
          ]
        }
      ]
    },
    {
      "cell_type": "code",
      "source": [
        "l1 = [100, 1, 3, -4, 10, -13, 45]\n",
        "l2 = l1\n",
        "l2.append('Python')\n",
        "print('Original list elements:',l1)\n",
        "print('New list elements:',l2)"
      ],
      "metadata": {
        "id": "ANnGP5-mWNJw",
        "colab": {
          "base_uri": "https://localhost:8080/"
        },
        "outputId": "566c6372-088e-4ac0-98c5-319d2171c50e"
      },
      "execution_count": null,
      "outputs": [
        {
          "output_type": "stream",
          "name": "stdout",
          "text": [
            "Original list elements: [100, 1, 3, -4, 10, -13, 45, 'Python']\n",
            "New list elements: [100, 1, 3, -4, 10, -13, 45, 'Python']\n"
          ]
        }
      ]
    },
    {
      "cell_type": "code",
      "source": [
        "l1 = [100, 1, 3, -4, 10, -13, 45]\n",
        "l2 = l1.copy()\n",
        "l2.append('python')\n",
        "print('Original list elements:',l1)\n",
        "print('New list elements:',l2)"
      ],
      "metadata": {
        "id": "IMwYZ9VAWU_A",
        "colab": {
          "base_uri": "https://localhost:8080/"
        },
        "outputId": "2c43c75f-4dfa-49b4-d093-ceae02c3f8d7"
      },
      "execution_count": null,
      "outputs": [
        {
          "output_type": "stream",
          "name": "stdout",
          "text": [
            "Original list elements: [100, 1, 3, -4, 10, -13, 45]\n",
            "New list elements: [100, 1, 3, -4, 10, -13, 45, 'python']\n"
          ]
        }
      ]
    },
    {
      "cell_type": "code",
      "source": [
        "l1 = [100, 1, 3, -4, 10, -13, 45]\n",
        "l2 = l1[:]\n",
        "l2.append('python')\n",
        "print('Original list elements:',l1)\n",
        "print('New list elements:',l2)"
      ],
      "metadata": {
        "id": "bBK8CbyP3M6L",
        "colab": {
          "base_uri": "https://localhost:8080/"
        },
        "outputId": "b2c82cfa-559e-416a-d0e2-4ae0d2d39c02"
      },
      "execution_count": null,
      "outputs": [
        {
          "output_type": "stream",
          "name": "stdout",
          "text": [
            "Original list elements: [100, 1, 3, -4, 10, -13, 45]\n",
            "New list elements: [100, 1, 3, -4, 10, -13, 45, 'python']\n"
          ]
        }
      ]
    },
    {
      "cell_type": "markdown",
      "source": [
        "## **Updating the list elements**"
      ],
      "metadata": {
        "id": "w5LujkX-2air"
      }
    },
    {
      "cell_type": "code",
      "source": [
        "l1 = [100, 1, 3, -4, 10, -13, 45]\n",
        "l1[0] = 1000\n",
        "print('Updated List:',l1)"
      ],
      "metadata": {
        "id": "D4ac_xl92bKs",
        "colab": {
          "base_uri": "https://localhost:8080/"
        },
        "outputId": "d5c78fc3-e6c8-4b7e-bcd5-e32e993811b4"
      },
      "execution_count": null,
      "outputs": [
        {
          "output_type": "stream",
          "name": "stdout",
          "text": [
            "Updated List: [1000, 1, 3, -4, 10, -13, 45]\n"
          ]
        }
      ]
    },
    {
      "cell_type": "markdown",
      "source": [
        "### **Copying using list functions**"
      ],
      "metadata": {
        "id": "Ioedc_vLWsbI"
      }
    },
    {
      "cell_type": "code",
      "source": [
        "l1 = [100, 1, 3, -4, 10, -13, 45]\n",
        "l2 = []\n",
        "for i in l1:\n",
        "  l2.append(i)\n",
        "print('Original list elements:',l1)\n",
        "print('New list elements:',l2)"
      ],
      "metadata": {
        "id": "7TS3GsTmWd7g",
        "colab": {
          "base_uri": "https://localhost:8080/"
        },
        "outputId": "dfc82b6f-be37-40ee-d228-00ecab22401f"
      },
      "execution_count": null,
      "outputs": [
        {
          "output_type": "stream",
          "name": "stdout",
          "text": [
            "Original list elements: [100, 1, 3, -4, 10, -13, 45]\n",
            "New list elements: [100, 1, 3, -4, 10, -13, 45]\n"
          ]
        }
      ]
    },
    {
      "cell_type": "code",
      "source": [
        "# copy the list values after squaring it\n",
        "l1 = [100, 1, 3, -4, 10, -13, 45]\n",
        "l2 = []\n",
        "for i in l1:\n",
        "  l2.append(i**2)\n",
        "print('Original list elements:',l1)\n",
        "print('New list elements:',l2)"
      ],
      "metadata": {
        "id": "cOsRKSdmW8Rg",
        "colab": {
          "base_uri": "https://localhost:8080/"
        },
        "outputId": "435fb7d2-4527-483c-b9c7-93d55964832c"
      },
      "execution_count": null,
      "outputs": [
        {
          "output_type": "stream",
          "name": "stdout",
          "text": [
            "Original list elements: [100, 1, 3, -4, 10, -13, 45]\n",
            "New list elements: [10000, 1, 9, 16, 100, 169, 2025]\n"
          ]
        }
      ]
    },
    {
      "cell_type": "code",
      "source": [
        "# copy the list values which are divisible by 2\n",
        "l1 = [100, 1, 3, -4, 10, -13, 45]\n",
        "l2 = []\n",
        "for i in l1:\n",
        "  if i%2 == 0:\n",
        "    l2.append(i)\n",
        "print('Original list elements:',l1)\n",
        "print('New list elements:',l2)"
      ],
      "metadata": {
        "id": "qTJVV5pAXzgH",
        "colab": {
          "base_uri": "https://localhost:8080/"
        },
        "outputId": "8f30c032-35c4-4d8b-aecd-b7996160562b"
      },
      "execution_count": null,
      "outputs": [
        {
          "output_type": "stream",
          "name": "stdout",
          "text": [
            "Original list elements: [100, 1, 3, -4, 10, -13, 45]\n",
            "New list elements: [100, -4, 10]\n"
          ]
        }
      ]
    },
    {
      "cell_type": "code",
      "source": [
        "# copy the list values which are divisible by 2 and also by 5\n",
        "l1 = [100, 1, 3, -4, 10, -13, 45]\n",
        "l2 = []\n",
        "for i in l1:\n",
        "  if i%2 == 0 and i%5 == 0:\n",
        "    l2.append(i)\n",
        "print('Original list elements:',l1)\n",
        "print('New list elements:',l2)"
      ],
      "metadata": {
        "id": "5fkY9IGCYOIs",
        "colab": {
          "base_uri": "https://localhost:8080/"
        },
        "outputId": "305cb716-a159-475c-cb50-fb9d550d0d19"
      },
      "execution_count": null,
      "outputs": [
        {
          "output_type": "stream",
          "name": "stdout",
          "text": [
            "Original list elements: [100, 1, 3, -4, 10, -13, 45]\n",
            "New list elements: [100, 10]\n"
          ]
        }
      ]
    },
    {
      "cell_type": "code",
      "source": [
        "# copy the list values which are divisible by 2 after squaring it else copy them as it is\n",
        "l1 = [100, 1, 3, -4, 10, -13, 45]\n",
        "l2 = []\n",
        "for i in l1:\n",
        "  if i%2 == 0:\n",
        "    l2.append(i**2)\n",
        "  else:\n",
        "    l2.append(i)\n",
        "print('Original list elements:',l1)\n",
        "print('New list elements:',l2)"
      ],
      "metadata": {
        "id": "Rhe_2mzXYgXv",
        "colab": {
          "base_uri": "https://localhost:8080/"
        },
        "outputId": "c4375506-0edc-4862-e52e-f37cf887b0a0"
      },
      "execution_count": null,
      "outputs": [
        {
          "output_type": "stream",
          "name": "stdout",
          "text": [
            "Original list elements: [100, 1, 3, -4, 10, -13, 45]\n",
            "New list elements: [10000, 1, 3, 16, 100, -13, 45]\n"
          ]
        }
      ]
    },
    {
      "cell_type": "markdown",
      "source": [
        "### **List Comprehension**"
      ],
      "metadata": {
        "id": "ULs8P9ZGY9DQ"
      }
    },
    {
      "cell_type": "code",
      "source": [
        "l1 = [100, 1, 3, -4, 10, -13, 45]\n",
        "l2 = [i for i in l1]\n",
        "print('Original list elements:',l1)\n",
        "print('New list elements:',l2)"
      ],
      "metadata": {
        "id": "1Y_YeBP_Y26w",
        "colab": {
          "base_uri": "https://localhost:8080/"
        },
        "outputId": "6b293df7-5376-405b-82d7-3c74bdd0f809"
      },
      "execution_count": null,
      "outputs": [
        {
          "output_type": "stream",
          "name": "stdout",
          "text": [
            "Original list elements: [100, 1, 3, -4, 10, -13, 45]\n",
            "New list elements: [100, 1, 3, -4, 10, -13, 45]\n"
          ]
        }
      ]
    },
    {
      "cell_type": "code",
      "source": [
        "# Output followed by outer loop and then inner loop (if there is one output)\n",
        "# True condition output followed by inner loop then false condition output followed by outer loop (if there are more than one outputs)"
      ],
      "metadata": {
        "id": "v6ubvlaRZNoK"
      },
      "execution_count": null,
      "outputs": []
    },
    {
      "cell_type": "code",
      "source": [
        "l1 = [100, 1, 3, -4, 10, -13, 45]\n",
        "l2 = [i**2 for i in l1]\n",
        "print('Original list elements:',l1)\n",
        "print('New list elements:',l2)"
      ],
      "metadata": {
        "id": "72ezAXPvZjJA",
        "colab": {
          "base_uri": "https://localhost:8080/"
        },
        "outputId": "510d4a7b-b4bd-4246-a485-94198ac2d900"
      },
      "execution_count": null,
      "outputs": [
        {
          "output_type": "stream",
          "name": "stdout",
          "text": [
            "Original list elements: [100, 1, 3, -4, 10, -13, 45]\n",
            "New list elements: [10000, 1, 9, 16, 100, 169, 2025]\n"
          ]
        }
      ]
    },
    {
      "cell_type": "code",
      "source": [
        "l1 = [100, 1, 3, -4, 10, -13, 45]\n",
        "l2 = [i for i in l1 if i%2 == 0]\n",
        "print('Original list elements:',l1)\n",
        "print('New list elements:',l2)"
      ],
      "metadata": {
        "id": "Xe35R31sZy4w",
        "colab": {
          "base_uri": "https://localhost:8080/"
        },
        "outputId": "56cbbd5f-d606-4a29-a29f-29828c6f3b44"
      },
      "execution_count": null,
      "outputs": [
        {
          "output_type": "stream",
          "name": "stdout",
          "text": [
            "Original list elements: [100, 1, 3, -4, 10, -13, 45]\n",
            "New list elements: [100, -4, 10]\n"
          ]
        }
      ]
    },
    {
      "cell_type": "code",
      "source": [
        "l1 = [100, 1, 3, -4, 10, -13, 45]\n",
        "l2 = [i for i in l1 if i%2 == 0 and i%5 == 0]\n",
        "print('Original list elements:',l1)\n",
        "print('New list elements:',l2)"
      ],
      "metadata": {
        "id": "hX6sT27KaBe_",
        "colab": {
          "base_uri": "https://localhost:8080/"
        },
        "outputId": "f73702fe-501a-4625-c12d-d99ad76104dc"
      },
      "execution_count": null,
      "outputs": [
        {
          "output_type": "stream",
          "name": "stdout",
          "text": [
            "Original list elements: [100, 1, 3, -4, 10, -13, 45]\n",
            "New list elements: [100, 10]\n"
          ]
        }
      ]
    },
    {
      "cell_type": "code",
      "source": [
        "l1 = [100, 1, 3, -4, 10, -13, 45]\n",
        "l2 = [i**2 if i%2 == 0 else i for i in l1]\n",
        "print('Original list elements:',l1)\n",
        "print('New list elements:',l2)"
      ],
      "metadata": {
        "id": "RpgwWmaYaX16",
        "colab": {
          "base_uri": "https://localhost:8080/"
        },
        "outputId": "e3dc2b99-9e44-4b9f-9038-ae9a4a0572df"
      },
      "execution_count": null,
      "outputs": [
        {
          "output_type": "stream",
          "name": "stdout",
          "text": [
            "Original list elements: [100, 1, 3, -4, 10, -13, 45]\n",
            "New list elements: [10000, 1, 3, 16, 100, -13, 45]\n"
          ]
        }
      ]
    },
    {
      "cell_type": "code",
      "source": [
        "# Remove elements from a list"
      ],
      "metadata": {
        "id": "wtgsO5OCamRv"
      },
      "execution_count": null,
      "outputs": []
    },
    {
      "cell_type": "code",
      "source": [
        "l1 = [100, 1, 3, -4, 10, -13, 45]\n",
        "l1.pop() # nothing inside bracket will remove the last element\n",
        "print(l1)"
      ],
      "metadata": {
        "id": "PCVH3AZv06gm",
        "colab": {
          "base_uri": "https://localhost:8080/"
        },
        "outputId": "968d1197-975b-4802-f6f4-5879de68accf"
      },
      "execution_count": null,
      "outputs": [
        {
          "output_type": "stream",
          "name": "stdout",
          "text": [
            "[100, 1, 3, -4, 10, -13]\n"
          ]
        }
      ]
    },
    {
      "cell_type": "code",
      "source": [
        "l1.pop(3) # number inside the bracket is index number. It is not the value.\n",
        "print(l1)"
      ],
      "metadata": {
        "id": "5NIgKNzz1KGe",
        "colab": {
          "base_uri": "https://localhost:8080/"
        },
        "outputId": "6b1732dc-100e-43cd-a959-134b5cc131fc"
      },
      "execution_count": null,
      "outputs": [
        {
          "output_type": "stream",
          "name": "stdout",
          "text": [
            "[100, 1, 3, 10, -13]\n"
          ]
        }
      ]
    },
    {
      "cell_type": "code",
      "source": [
        "l1.remove(3) # number inside the bracket is value. It is not index number.\n",
        "print(l1)"
      ],
      "metadata": {
        "id": "Er3Kmjnc1TY2",
        "colab": {
          "base_uri": "https://localhost:8080/"
        },
        "outputId": "0e277357-f3a5-4cef-e909-96fa335f2501"
      },
      "execution_count": null,
      "outputs": [
        {
          "output_type": "stream",
          "name": "stdout",
          "text": [
            "[100, 1, 10, -13]\n"
          ]
        }
      ]
    },
    {
      "cell_type": "code",
      "source": [
        "l1.clear() # it will clear all the contents and make the list empty\n",
        "print(l1)"
      ],
      "metadata": {
        "id": "T2VggiMY1hx6",
        "colab": {
          "base_uri": "https://localhost:8080/"
        },
        "outputId": "a4572205-4c3b-43be-b1d7-1b2a9bc37e09"
      },
      "execution_count": null,
      "outputs": [
        {
          "output_type": "stream",
          "name": "stdout",
          "text": [
            "[]\n"
          ]
        }
      ]
    },
    {
      "cell_type": "code",
      "source": [
        "del l1 # l1 is deleted and do not exist\n",
        "print(l1)"
      ],
      "metadata": {
        "id": "TsXk3k-r15CH",
        "colab": {
          "base_uri": "https://localhost:8080/",
          "height": 183
        },
        "outputId": "013ed03d-c5d7-484a-8df2-c0bb0510f07e"
      },
      "execution_count": null,
      "outputs": [
        {
          "output_type": "error",
          "ename": "NameError",
          "evalue": "ignored",
          "traceback": [
            "\u001b[0;31m---------------------------------------------------------------------------\u001b[0m",
            "\u001b[0;31mNameError\u001b[0m                                 Traceback (most recent call last)",
            "\u001b[0;32m<ipython-input-76-2e6989d9570d>\u001b[0m in \u001b[0;36m<cell line: 2>\u001b[0;34m()\u001b[0m\n\u001b[1;32m      1\u001b[0m \u001b[0;32mdel\u001b[0m \u001b[0ml1\u001b[0m \u001b[0;31m# l1 is deleted and do not exist\u001b[0m\u001b[0;34m\u001b[0m\u001b[0;34m\u001b[0m\u001b[0m\n\u001b[0;32m----> 2\u001b[0;31m \u001b[0mprint\u001b[0m\u001b[0;34m(\u001b[0m\u001b[0ml1\u001b[0m\u001b[0;34m)\u001b[0m\u001b[0;34m\u001b[0m\u001b[0;34m\u001b[0m\u001b[0m\n\u001b[0m",
            "\u001b[0;31mNameError\u001b[0m: name 'l1' is not defined"
          ]
        }
      ]
    },
    {
      "cell_type": "markdown",
      "source": [
        "## **Major List Functions**"
      ],
      "metadata": {
        "id": "6IJgihbO3aro"
      }
    },
    {
      "cell_type": "code",
      "source": [
        "l1 = [100, 1, 3, -4, 10, -13, 45]\n",
        "print(len(l1)) # gives the length of list or the total no.of elements present in the list\n",
        "print(sum(l1)) # add all elements of the list\n",
        "print(l1[::-1]) # reverses the list elements\n",
        "print(sorted(l1)) # sort the list in ascending order\n",
        "print(l1.reverse()) # reverse the list elements\n",
        "print(l1.count(-4)) # gives the count of the given value\n",
        "print(l1.index(-13)) # gives the index position of the given value"
      ],
      "metadata": {
        "id": "tr6KOBz42IzV",
        "colab": {
          "base_uri": "https://localhost:8080/"
        },
        "outputId": "d61e77db-c3a9-4c8d-83a4-3c4ddfe0d59a"
      },
      "execution_count": null,
      "outputs": [
        {
          "output_type": "stream",
          "name": "stdout",
          "text": [
            "7\n",
            "142\n",
            "[45, -13, 10, -4, 3, 1, 100]\n",
            "[-13, -4, 1, 3, 10, 45, 100]\n",
            "None\n",
            "1\n",
            "1\n"
          ]
        }
      ]
    },
    {
      "cell_type": "code",
      "source": [
        "l1 = [100, 1, 3, -4, 10, -13, 45]\n",
        "l1.reverse() # reverse the list elements\n",
        "print(l1)"
      ],
      "metadata": {
        "id": "ZIm5omiq5U2_",
        "colab": {
          "base_uri": "https://localhost:8080/"
        },
        "outputId": "fcd4aa06-3e15-4680-d473-d3e8be67c2f5"
      },
      "execution_count": null,
      "outputs": [
        {
          "output_type": "stream",
          "name": "stdout",
          "text": [
            "[45, -13, 10, -4, 3, 1, 100]\n"
          ]
        }
      ]
    },
    {
      "cell_type": "code",
      "source": [
        "l1 = list()\n",
        "print(dir(l1))"
      ],
      "metadata": {
        "id": "gJOL0cIu5Ekb",
        "colab": {
          "base_uri": "https://localhost:8080/"
        },
        "outputId": "bc3b5f45-ab38-4a6a-a567-c14b921e187b"
      },
      "execution_count": null,
      "outputs": [
        {
          "output_type": "stream",
          "name": "stdout",
          "text": [
            "['__add__', '__class__', '__class_getitem__', '__contains__', '__delattr__', '__delitem__', '__dir__', '__doc__', '__eq__', '__format__', '__ge__', '__getattribute__', '__getitem__', '__gt__', '__hash__', '__iadd__', '__imul__', '__init__', '__init_subclass__', '__iter__', '__le__', '__len__', '__lt__', '__mul__', '__ne__', '__new__', '__reduce__', '__reduce_ex__', '__repr__', '__reversed__', '__rmul__', '__setattr__', '__setitem__', '__sizeof__', '__str__', '__subclasshook__', 'append', 'clear', 'copy', 'count', 'extend', 'index', 'insert', 'pop', 'remove', 'reverse', 'sort']\n"
          ]
        }
      ]
    },
    {
      "cell_type": "code",
      "source": [],
      "metadata": {
        "id": "oNnXkZnT7TEo"
      },
      "execution_count": null,
      "outputs": []
    },
    {
      "cell_type": "markdown",
      "source": [
        "## **2. Tuples- collection of elements (ideally heterogeneous but can have similar data type elements)**"
      ],
      "metadata": {
        "id": "3KiAG0m89N8A"
      }
    },
    {
      "cell_type": "code",
      "source": [
        "t1 = ()\n",
        "print(t1)\n",
        "print(type(t1))"
      ],
      "metadata": {
        "id": "zBOcei2z979m",
        "colab": {
          "base_uri": "https://localhost:8080/"
        },
        "outputId": "11c33f9e-49f6-4643-8564-39c573f67b95"
      },
      "execution_count": null,
      "outputs": [
        {
          "output_type": "stream",
          "name": "stdout",
          "text": [
            "()\n",
            "<class 'tuple'>\n"
          ]
        }
      ]
    },
    {
      "cell_type": "code",
      "source": [
        "t1.append(100)\n",
        "print(t1)"
      ],
      "metadata": {
        "id": "MhHN4Wtc-Ikd",
        "colab": {
          "base_uri": "https://localhost:8080/",
          "height": 183
        },
        "outputId": "39b038e5-f35f-40f9-ddea-e7aa702c1618"
      },
      "execution_count": null,
      "outputs": [
        {
          "output_type": "error",
          "ename": "AttributeError",
          "evalue": "ignored",
          "traceback": [
            "\u001b[0;31m---------------------------------------------------------------------------\u001b[0m",
            "\u001b[0;31mAttributeError\u001b[0m                            Traceback (most recent call last)",
            "\u001b[0;32m<ipython-input-81-82b0c519d014>\u001b[0m in \u001b[0;36m<cell line: 1>\u001b[0;34m()\u001b[0m\n\u001b[0;32m----> 1\u001b[0;31m \u001b[0mt1\u001b[0m\u001b[0;34m.\u001b[0m\u001b[0mappend\u001b[0m\u001b[0;34m(\u001b[0m\u001b[0;36m100\u001b[0m\u001b[0;34m)\u001b[0m\u001b[0;34m\u001b[0m\u001b[0;34m\u001b[0m\u001b[0m\n\u001b[0m\u001b[1;32m      2\u001b[0m \u001b[0mprint\u001b[0m\u001b[0;34m(\u001b[0m\u001b[0mt1\u001b[0m\u001b[0;34m)\u001b[0m\u001b[0;34m\u001b[0m\u001b[0;34m\u001b[0m\u001b[0m\n",
            "\u001b[0;31mAttributeError\u001b[0m: 'tuple' object has no attribute 'append'"
          ]
        }
      ]
    },
    {
      "cell_type": "markdown",
      "source": [
        "### **Tuples once created cannot be modified. This is the most fundamental difference between List and Tuple. Lists are mutable while Tuples are immutable**"
      ],
      "metadata": {
        "id": "-SfUh3_o-aWV"
      }
    },
    {
      "cell_type": "code",
      "source": [
        "t1 = (100, 1, 3, -4, 10, -13, 45)\n",
        "t2 = 100, 1, 3, -4, 10, -13, 45\n",
        "t3 = 100\n",
        "print(type(t1))\n",
        "print(type(t2))\n",
        "print(type(t3))"
      ],
      "metadata": {
        "id": "2iYtl63i9NVR",
        "colab": {
          "base_uri": "https://localhost:8080/"
        },
        "outputId": "38e653b6-11c6-4786-d07d-69c8bdb2995a"
      },
      "execution_count": null,
      "outputs": [
        {
          "output_type": "stream",
          "name": "stdout",
          "text": [
            "<class 'tuple'>\n",
            "<class 'tuple'>\n",
            "<class 'int'>\n"
          ]
        }
      ]
    },
    {
      "cell_type": "markdown",
      "source": [
        "### **When there is a single tuple element it is written followed by a comma**"
      ],
      "metadata": {
        "id": "d8BomK5o_pTC"
      }
    },
    {
      "cell_type": "code",
      "source": [
        "t3 = 100,\n",
        "print(type(t3))"
      ],
      "metadata": {
        "id": "oE-4VZ4T-6Qa",
        "colab": {
          "base_uri": "https://localhost:8080/"
        },
        "outputId": "d962b5df-b5dc-4f75-eb5c-748d8bc02fe3"
      },
      "execution_count": null,
      "outputs": [
        {
          "output_type": "stream",
          "name": "stdout",
          "text": [
            "<class 'tuple'>\n"
          ]
        }
      ]
    },
    {
      "cell_type": "markdown",
      "source": [
        "### **Tuple packing and unpacking**"
      ],
      "metadata": {
        "id": "iyMUk_XGMtrn"
      }
    },
    {
      "cell_type": "code",
      "source": [
        "a = 5\n",
        "b = 6\n",
        "print(a,b)"
      ],
      "metadata": {
        "id": "77X-BUlvMzXp",
        "colab": {
          "base_uri": "https://localhost:8080/"
        },
        "outputId": "7b1c47e4-90a2-424c-f70a-55801a533d49"
      },
      "execution_count": null,
      "outputs": [
        {
          "output_type": "stream",
          "name": "stdout",
          "text": [
            "5 6\n"
          ]
        }
      ]
    },
    {
      "cell_type": "code",
      "source": [
        "a, b, c = 5, 6\n",
        "print(a,b, c)"
      ],
      "metadata": {
        "id": "JkZNC6oFNBMy",
        "colab": {
          "base_uri": "https://localhost:8080/",
          "height": 183
        },
        "outputId": "afbaeddf-4aa2-4e04-90cb-e566f6d7892a"
      },
      "execution_count": null,
      "outputs": [
        {
          "output_type": "error",
          "ename": "ValueError",
          "evalue": "ignored",
          "traceback": [
            "\u001b[0;31m---------------------------------------------------------------------------\u001b[0m",
            "\u001b[0;31mValueError\u001b[0m                                Traceback (most recent call last)",
            "\u001b[0;32m<ipython-input-86-8c2bf84718b8>\u001b[0m in \u001b[0;36m<cell line: 1>\u001b[0;34m()\u001b[0m\n\u001b[0;32m----> 1\u001b[0;31m \u001b[0ma\u001b[0m\u001b[0;34m,\u001b[0m \u001b[0mb\u001b[0m\u001b[0;34m,\u001b[0m \u001b[0mc\u001b[0m \u001b[0;34m=\u001b[0m \u001b[0;36m5\u001b[0m\u001b[0;34m,\u001b[0m \u001b[0;36m6\u001b[0m\u001b[0;34m\u001b[0m\u001b[0;34m\u001b[0m\u001b[0m\n\u001b[0m\u001b[1;32m      2\u001b[0m \u001b[0mprint\u001b[0m\u001b[0;34m(\u001b[0m\u001b[0ma\u001b[0m\u001b[0;34m,\u001b[0m\u001b[0mb\u001b[0m\u001b[0;34m,\u001b[0m \u001b[0mc\u001b[0m\u001b[0;34m)\u001b[0m\u001b[0;34m\u001b[0m\u001b[0;34m\u001b[0m\u001b[0m\n",
            "\u001b[0;31mValueError\u001b[0m: not enough values to unpack (expected 3, got 2)"
          ]
        }
      ]
    },
    {
      "cell_type": "markdown",
      "source": [
        "### Number of variables on LHS must be equal to number of values on RHS"
      ],
      "metadata": {
        "id": "LIRG2pkaNKh3"
      }
    },
    {
      "cell_type": "markdown",
      "source": [
        "## **3. Major Strings Functions**"
      ],
      "metadata": {
        "id": "4RVgKoDIB7oy"
      }
    },
    {
      "cell_type": "code",
      "source": [
        "s = 'ß version of Python is unnecessary for ML'\n",
        "print(s.lower()) # converts the string in lowercase\n",
        "print(s.casefold()) # converts the string in lowercase more aggressively\n",
        "print(s.upper()) # converts the string in uppercase\n",
        "print(s.title()) # converts the every 1st character of string in uppercase and rest in lowercase\n",
        "print(s.swapcase()) # interchange lowercase to uppercase and vice versa"
      ],
      "metadata": {
        "id": "MGT0SZpPANvs",
        "colab": {
          "base_uri": "https://localhost:8080/"
        },
        "outputId": "aa24f5f7-fdf0-489d-e479-7f1fadaa3a52"
      },
      "execution_count": null,
      "outputs": [
        {
          "output_type": "stream",
          "name": "stdout",
          "text": [
            "ß version of python is unnecessary for ml\n",
            "ss version of python is unnecessary for ml\n",
            "SS VERSION OF PYTHON IS UNNECESSARY FOR ML\n",
            "Ss Version Of Python Is Unnecessary For Ml\n",
            "SS VERSION OF pYTHON IS UNNECESSARY FOR ml\n"
          ]
        }
      ]
    },
    {
      "cell_type": "markdown",
      "source": [
        "### **Replace function in String**"
      ],
      "metadata": {
        "id": "OH10K9sbLIhs"
      }
    },
    {
      "cell_type": "code",
      "source": [
        "s = 'ß version of Python is unnecessary for ML. But ß version is necessary for finding volatile issues'\n",
        "print(s.replace('ß','Beta'))"
      ],
      "metadata": {
        "id": "gjCcPO6lC76_",
        "colab": {
          "base_uri": "https://localhost:8080/"
        },
        "outputId": "ae42c9c8-1a95-4406-dc69-a7847b81973e"
      },
      "execution_count": null,
      "outputs": [
        {
          "output_type": "stream",
          "name": "stdout",
          "text": [
            "Beta version of Python is unnecessary for ML. But Beta version is necessary for finding volatile issues\n"
          ]
        }
      ]
    },
    {
      "cell_type": "code",
      "source": [
        "s = 'ß version of Python is unnecessary for ML. But ß version is necessary for finding volatile issues'\n",
        "print(s.replace('ß','Beta',1))"
      ],
      "metadata": {
        "id": "ksO82hoLL_rN",
        "colab": {
          "base_uri": "https://localhost:8080/"
        },
        "outputId": "4eb10f1d-6284-4805-953e-f4612110edbc"
      },
      "execution_count": null,
      "outputs": [
        {
          "output_type": "stream",
          "name": "stdout",
          "text": [
            "Beta version of Python is unnecessary for ML. But ß version is necessary for finding volatile issues\n"
          ]
        }
      ]
    },
    {
      "cell_type": "markdown",
      "source": [
        "### **Series operation in Strings**"
      ],
      "metadata": {
        "id": "p2vxHNNfMaPY"
      }
    },
    {
      "cell_type": "code",
      "source": [
        "s = 'Python Is Easy'\n",
        "print(s.replace('Easy', 'Fun'))\n",
        "print(s.lower())"
      ],
      "metadata": {
        "id": "fxz-r9jINjvR",
        "colab": {
          "base_uri": "https://localhost:8080/"
        },
        "outputId": "26fc8967-51f5-414d-e502-90ba60059693"
      },
      "execution_count": null,
      "outputs": [
        {
          "output_type": "stream",
          "name": "stdout",
          "text": [
            "Python Is Fun\n",
            "python is easy\n"
          ]
        }
      ]
    },
    {
      "cell_type": "code",
      "source": [
        "s = 'Python Is Easy'.replace('Easy', 'Fun').lower()\n",
        "print(s)"
      ],
      "metadata": {
        "id": "fU8QGwA-N4hy",
        "colab": {
          "base_uri": "https://localhost:8080/"
        },
        "outputId": "419f78de-d793-48ae-ddd0-3be8bf407bd7"
      },
      "execution_count": null,
      "outputs": [
        {
          "output_type": "stream",
          "name": "stdout",
          "text": [
            "python is fun\n"
          ]
        }
      ]
    },
    {
      "cell_type": "code",
      "source": [
        "s = 'Python Is Easy'\n",
        "print(s.replace('Easy', 'Fun').lower())"
      ],
      "metadata": {
        "id": "J82X9JiUMEh_",
        "colab": {
          "base_uri": "https://localhost:8080/"
        },
        "outputId": "0b94e2b1-3c4e-4750-befb-af79cb34c1f3"
      },
      "execution_count": null,
      "outputs": [
        {
          "output_type": "stream",
          "name": "stdout",
          "text": [
            "python is fun\n"
          ]
        }
      ]
    },
    {
      "cell_type": "markdown",
      "source": [
        "## **4. Dictionary**"
      ],
      "metadata": {
        "id": "iOXMyVJeQNeu"
      }
    },
    {
      "cell_type": "code",
      "source": [
        "d = {}\n",
        "print(d)\n",
        "print(type(d))"
      ],
      "metadata": {
        "id": "RSTPsQpNQTlT",
        "colab": {
          "base_uri": "https://localhost:8080/"
        },
        "outputId": "250af39f-00b5-4bd0-c2eb-7239d8cb72d4"
      },
      "execution_count": null,
      "outputs": [
        {
          "output_type": "stream",
          "name": "stdout",
          "text": [
            "{}\n",
            "<class 'dict'>\n"
          ]
        }
      ]
    },
    {
      "cell_type": "code",
      "source": [
        "d['Python'] = 'Easy lang' # creating a dictionary with key : value pair\n",
        "print(d)"
      ],
      "metadata": {
        "id": "E2AY79yZQbr6",
        "colab": {
          "base_uri": "https://localhost:8080/"
        },
        "outputId": "35c98ac5-ddfa-4148-f21d-55be2a7209b4"
      },
      "execution_count": null,
      "outputs": [
        {
          "output_type": "stream",
          "name": "stdout",
          "text": [
            "{'Python': 'Easy lang'}\n"
          ]
        }
      ]
    },
    {
      "cell_type": "code",
      "source": [
        "d['Java'] = 'Tough lang'\n",
        "print(d)"
      ],
      "metadata": {
        "id": "C0X5-uVBQpmG",
        "colab": {
          "base_uri": "https://localhost:8080/"
        },
        "outputId": "1cede419-0d66-46c7-8ea0-8f8d6c1c4aff"
      },
      "execution_count": null,
      "outputs": [
        {
          "output_type": "stream",
          "name": "stdout",
          "text": [
            "{'Python': 'Easy lang', 'Java': 'Tough lang'}\n"
          ]
        }
      ]
    },
    {
      "cell_type": "code",
      "source": [
        "d.keys() # getting all keys"
      ],
      "metadata": {
        "id": "Dcjzmlv4Q1cJ",
        "colab": {
          "base_uri": "https://localhost:8080/"
        },
        "outputId": "44fd33df-0476-4abf-ad6b-7cc1cb812cb7"
      },
      "execution_count": null,
      "outputs": [
        {
          "output_type": "execute_result",
          "data": {
            "text/plain": [
              "dict_keys(['Python', 'Java'])"
            ]
          },
          "metadata": {},
          "execution_count": 96
        }
      ]
    },
    {
      "cell_type": "code",
      "source": [
        "d.values() # getting all values"
      ],
      "metadata": {
        "id": "VHAHHjKfQ78O",
        "colab": {
          "base_uri": "https://localhost:8080/"
        },
        "outputId": "7b9dc932-a28e-4b37-bf90-a37531f76291"
      },
      "execution_count": null,
      "outputs": [
        {
          "output_type": "execute_result",
          "data": {
            "text/plain": [
              "dict_values(['Easy lang', 'Tough lang'])"
            ]
          },
          "metadata": {},
          "execution_count": 97
        }
      ]
    },
    {
      "cell_type": "code",
      "source": [
        "d.items() # getting all keys and values pairs"
      ],
      "metadata": {
        "id": "WTOAtxHSQ-jm",
        "colab": {
          "base_uri": "https://localhost:8080/"
        },
        "outputId": "e6d56fef-cf1a-4a3c-978f-e57687040203"
      },
      "execution_count": null,
      "outputs": [
        {
          "output_type": "execute_result",
          "data": {
            "text/plain": [
              "dict_items([('Python', 'Easy lang'), ('Java', 'Tough lang')])"
            ]
          },
          "metadata": {},
          "execution_count": 98
        }
      ]
    },
    {
      "cell_type": "code",
      "source": [
        "d['Python'] # access the value using key"
      ],
      "metadata": {
        "id": "6lj-8fztRFec",
        "colab": {
          "base_uri": "https://localhost:8080/",
          "height": 35
        },
        "outputId": "78bb5399-e288-4a54-a92c-2d9afb8b9446"
      },
      "execution_count": null,
      "outputs": [
        {
          "output_type": "execute_result",
          "data": {
            "text/plain": [
              "'Easy lang'"
            ],
            "application/vnd.google.colaboratory.intrinsic+json": {
              "type": "string"
            }
          },
          "metadata": {},
          "execution_count": 99
        }
      ]
    },
    {
      "cell_type": "code",
      "source": [
        "d = {'Python': 'Easy lang', 'Java': 'Tough lang'}\n",
        "d['Python'] = 'Funny lang' # updating dictionary\n",
        "print(d)"
      ],
      "metadata": {
        "id": "HNe8fqU3RW5n",
        "colab": {
          "base_uri": "https://localhost:8080/"
        },
        "outputId": "93396853-a678-440f-8e86-e8333d27db1b"
      },
      "execution_count": null,
      "outputs": [
        {
          "output_type": "stream",
          "name": "stdout",
          "text": [
            "{'Python': 'Funny lang', 'Java': 'Tough lang'}\n"
          ]
        }
      ]
    },
    {
      "cell_type": "code",
      "source": [
        "d = {'Python': 'Easy lang', 'Java': 'Tough lang', 'Python': 'Funny lang'} # can we have two keys with same name?\n",
        "print(d)"
      ],
      "metadata": {
        "id": "SDnnBfjNgZ3P",
        "colab": {
          "base_uri": "https://localhost:8080/"
        },
        "outputId": "9f83d99b-fb8f-4ade-be7e-bb9ab710b4cc"
      },
      "execution_count": null,
      "outputs": [
        {
          "output_type": "stream",
          "name": "stdout",
          "text": [
            "{'Python': 'Funny lang', 'Java': 'Tough lang'}\n"
          ]
        }
      ]
    },
    {
      "cell_type": "markdown",
      "source": [
        "## **Sets**"
      ],
      "metadata": {
        "id": "hYgPWA9JhnBn"
      }
    },
    {
      "cell_type": "code",
      "source": [
        "s = {1,2,3,7,8,12,52,3,7,8}\n",
        "print(s)\n",
        "print(type(s))"
      ],
      "metadata": {
        "id": "oHvyGeViiD0o",
        "colab": {
          "base_uri": "https://localhost:8080/"
        },
        "outputId": "39e0793f-3385-4976-9e77-bec5e448e364"
      },
      "execution_count": null,
      "outputs": [
        {
          "output_type": "stream",
          "name": "stdout",
          "text": [
            "{1, 2, 3, 52, 7, 8, 12}\n",
            "<class 'set'>\n"
          ]
        }
      ]
    },
    {
      "cell_type": "markdown",
      "source": [
        "### **Sets are used to store elements without allowing duplicacy**"
      ],
      "metadata": {
        "id": "_bnWuYygjaUv"
      }
    },
    {
      "cell_type": "code",
      "source": [
        "# Empty Set"
      ],
      "metadata": {
        "id": "AZ2YTLnkjWe5"
      },
      "execution_count": null,
      "outputs": []
    },
    {
      "cell_type": "code",
      "source": [
        "s = {}\n",
        "print(s)\n",
        "print(type(s))"
      ],
      "metadata": {
        "id": "N69hCVrsi7CD",
        "colab": {
          "base_uri": "https://localhost:8080/"
        },
        "outputId": "f7444b0e-968f-4cfa-deef-e4d049d7f934"
      },
      "execution_count": null,
      "outputs": [
        {
          "output_type": "stream",
          "name": "stdout",
          "text": [
            "{}\n",
            "<class 'dict'>\n"
          ]
        }
      ]
    },
    {
      "cell_type": "code",
      "source": [
        "s = set()\n",
        "print(s)\n",
        "print(type(s))"
      ],
      "metadata": {
        "id": "-L-JbpNqgvNL",
        "colab": {
          "base_uri": "https://localhost:8080/"
        },
        "outputId": "fba525a3-baff-4900-8978-784d3ce88920"
      },
      "execution_count": null,
      "outputs": [
        {
          "output_type": "stream",
          "name": "stdout",
          "text": [
            "set()\n",
            "<class 'set'>\n"
          ]
        }
      ]
    },
    {
      "cell_type": "markdown",
      "source": [
        "### **Some major Sets operation**"
      ],
      "metadata": {
        "id": "d45DW88RoBxT"
      }
    },
    {
      "cell_type": "code",
      "source": [
        "s1 = {1, 2, 3, 52, 7, 8, 12}\n",
        "s2 = {-5, -45, 2, 3}\n",
        "print(s1.union(s2)) # | symbol is also used in place of writing union --> s1 | s2"
      ],
      "metadata": {
        "id": "Xtc_i8u-iBlb",
        "colab": {
          "base_uri": "https://localhost:8080/"
        },
        "outputId": "2bdd20c2-e9f5-490b-8200-404b7a4624e9"
      },
      "execution_count": null,
      "outputs": [
        {
          "output_type": "stream",
          "name": "stdout",
          "text": [
            "{1, 2, 3, 7, 8, 12, -45, 52, -5}\n"
          ]
        }
      ]
    },
    {
      "cell_type": "code",
      "source": [
        "s1 = {1, 2, 3, 52, 7, 8, 12}\n",
        "s2 = {-5, -45, 2, 3}\n",
        "print(s1.intersection(s2)) # & symbol is also used in place of writing intersection --> s1 & s2"
      ],
      "metadata": {
        "id": "jUoR4F8fmIYT",
        "colab": {
          "base_uri": "https://localhost:8080/"
        },
        "outputId": "924c9832-c8c3-483b-fcca-798d0da811b0"
      },
      "execution_count": null,
      "outputs": [
        {
          "output_type": "stream",
          "name": "stdout",
          "text": [
            "{2, 3}\n"
          ]
        }
      ]
    },
    {
      "cell_type": "code",
      "source": [
        "s1 = {1, 2, 3, 52, 7, 8, 12}\n",
        "s2 = {-5, -45, 2, 3}\n",
        "print(s1.difference(s2)) # - symbol is also used in place of writing difference --> s1 - s2"
      ],
      "metadata": {
        "id": "vIloXyj6mObs",
        "colab": {
          "base_uri": "https://localhost:8080/"
        },
        "outputId": "38b38c64-f5f0-424e-a082-5d273437f5b5"
      },
      "execution_count": null,
      "outputs": [
        {
          "output_type": "stream",
          "name": "stdout",
          "text": [
            "{1, 7, 8, 12, 52}\n"
          ]
        }
      ]
    },
    {
      "cell_type": "markdown",
      "source": [
        "### **Updating Sets**"
      ],
      "metadata": {
        "id": "fMCm_mhwoIWT"
      }
    },
    {
      "cell_type": "code",
      "source": [
        "s1 = {1, 2, 3, 52, 7, 8, 12}\n",
        "s2 = {-5, -45, 2, 3}\n",
        "s1.update(s2)\n",
        "print(s1)"
      ],
      "metadata": {
        "id": "hs3EpldVmV_m",
        "colab": {
          "base_uri": "https://localhost:8080/"
        },
        "outputId": "f3375673-238d-4362-ab04-c2ab323e9b6d"
      },
      "execution_count": null,
      "outputs": [
        {
          "output_type": "stream",
          "name": "stdout",
          "text": [
            "{1, 2, 3, 7, 8, 12, -45, 52, -5}\n"
          ]
        }
      ]
    },
    {
      "cell_type": "markdown",
      "source": [
        "### **Stop sets from updating**"
      ],
      "metadata": {
        "id": "ebMr1BD1oYjS"
      }
    },
    {
      "cell_type": "code",
      "source": [
        "s1 = frozenset({1, 2, 3, 52, 7, 8, 12})\n",
        "print(s1)\n",
        "s2 = {-5, -45, 2, 3}\n",
        "s1.update(s2)\n",
        "print(s1)"
      ],
      "metadata": {
        "id": "KrzkJMoenFBZ",
        "colab": {
          "base_uri": "https://localhost:8080/",
          "height": 235
        },
        "outputId": "c7d59889-1de5-4d50-d8af-959a13962aa0"
      },
      "execution_count": null,
      "outputs": [
        {
          "output_type": "stream",
          "name": "stdout",
          "text": [
            "frozenset({1, 2, 3, 52, 7, 8, 12})\n"
          ]
        },
        {
          "output_type": "error",
          "ename": "AttributeError",
          "evalue": "ignored",
          "traceback": [
            "\u001b[0;31m---------------------------------------------------------------------------\u001b[0m",
            "\u001b[0;31mAttributeError\u001b[0m                            Traceback (most recent call last)",
            "\u001b[0;32m<ipython-input-109-837bf6db2d7f>\u001b[0m in \u001b[0;36m<cell line: 4>\u001b[0;34m()\u001b[0m\n\u001b[1;32m      2\u001b[0m \u001b[0mprint\u001b[0m\u001b[0;34m(\u001b[0m\u001b[0ms1\u001b[0m\u001b[0;34m)\u001b[0m\u001b[0;34m\u001b[0m\u001b[0;34m\u001b[0m\u001b[0m\n\u001b[1;32m      3\u001b[0m \u001b[0ms2\u001b[0m \u001b[0;34m=\u001b[0m \u001b[0;34m{\u001b[0m\u001b[0;34m-\u001b[0m\u001b[0;36m5\u001b[0m\u001b[0;34m,\u001b[0m \u001b[0;34m-\u001b[0m\u001b[0;36m45\u001b[0m\u001b[0;34m,\u001b[0m \u001b[0;36m2\u001b[0m\u001b[0;34m,\u001b[0m \u001b[0;36m3\u001b[0m\u001b[0;34m}\u001b[0m\u001b[0;34m\u001b[0m\u001b[0;34m\u001b[0m\u001b[0m\n\u001b[0;32m----> 4\u001b[0;31m \u001b[0ms1\u001b[0m\u001b[0;34m.\u001b[0m\u001b[0mupdate\u001b[0m\u001b[0;34m(\u001b[0m\u001b[0ms2\u001b[0m\u001b[0;34m)\u001b[0m\u001b[0;34m\u001b[0m\u001b[0;34m\u001b[0m\u001b[0m\n\u001b[0m\u001b[1;32m      5\u001b[0m \u001b[0mprint\u001b[0m\u001b[0;34m(\u001b[0m\u001b[0ms1\u001b[0m\u001b[0;34m)\u001b[0m\u001b[0;34m\u001b[0m\u001b[0;34m\u001b[0m\u001b[0m\n",
            "\u001b[0;31mAttributeError\u001b[0m: 'frozenset' object has no attribute 'update'"
          ]
        }
      ]
    },
    {
      "cell_type": "markdown",
      "source": [
        "## **2 tricky interview questions**"
      ],
      "metadata": {
        "id": "voP2dwIEpw5j"
      }
    },
    {
      "cell_type": "markdown",
      "source": [
        "### **Can we add two tuples ?**"
      ],
      "metadata": {
        "id": "82vo9JRNp6zM"
      }
    },
    {
      "cell_type": "code",
      "source": [
        "a = 1,2,3\n",
        "b = 4,5,6\n",
        "a = a + b\n",
        "print(a)"
      ],
      "metadata": {
        "id": "ipBhghxYng2n",
        "colab": {
          "base_uri": "https://localhost:8080/"
        },
        "outputId": "e6680abd-6ba8-4051-c41d-12550f46bef5"
      },
      "execution_count": null,
      "outputs": [
        {
          "output_type": "stream",
          "name": "stdout",
          "text": [
            "(1, 2, 3, 4, 5, 6)\n"
          ]
        }
      ]
    },
    {
      "cell_type": "markdown",
      "source": [
        "## **Perform union operation between set and frozenset ?**"
      ],
      "metadata": {
        "id": "dLzku-Q4qKMk"
      }
    },
    {
      "cell_type": "code",
      "source": [
        "s1 = frozenset({1, 2, 3, 52, 7, 8, 12})\n",
        "s2 = {-5, -45, 2, 3}\n",
        "s1 |= s2\n",
        "print(s1)"
      ],
      "metadata": {
        "id": "hnqyekbXpMFR",
        "colab": {
          "base_uri": "https://localhost:8080/"
        },
        "outputId": "ebf77450-fab3-469f-bc2a-d138449d14aa"
      },
      "execution_count": null,
      "outputs": [
        {
          "output_type": "stream",
          "name": "stdout",
          "text": [
            "frozenset({1, 2, 3, 7, 8, 12, -45, 52, -5})\n"
          ]
        }
      ]
    },
    {
      "cell_type": "markdown",
      "source": [
        "### **Explanation**"
      ],
      "metadata": {
        "id": "6Mj9Gtj0rUe-"
      }
    },
    {
      "cell_type": "code",
      "source": [
        "a = 1,2,3\n",
        "print(id(a))\n",
        "b = 4,5,6\n",
        "a = a + b\n",
        "print(a)\n",
        "print(id(a))"
      ],
      "metadata": {
        "id": "w93ujlikox0n",
        "colab": {
          "base_uri": "https://localhost:8080/"
        },
        "outputId": "cf932ea6-71c8-4ea6-8504-2c09a3a5c90f"
      },
      "execution_count": null,
      "outputs": [
        {
          "output_type": "stream",
          "name": "stdout",
          "text": [
            "139925550038464\n",
            "(1, 2, 3, 4, 5, 6)\n",
            "139925559110400\n"
          ]
        }
      ]
    },
    {
      "cell_type": "code",
      "source": [
        "s1 = frozenset({1, 2, 3, 52, 7, 8, 12})\n",
        "print(id(s1))\n",
        "s2 = {-5, -45, 2, 3}\n",
        "s1 |= s2\n",
        "print(s1)\n",
        "print(id(s1))"
      ],
      "metadata": {
        "id": "nalh78JdqTuI",
        "colab": {
          "base_uri": "https://localhost:8080/"
        },
        "outputId": "7b9495e3-fbdb-40cd-ae8c-cbae5281c930"
      },
      "execution_count": null,
      "outputs": [
        {
          "output_type": "stream",
          "name": "stdout",
          "text": [
            "139925558862208\n",
            "frozenset({1, 2, 3, 7, 8, 12, -45, 52, -5})\n",
            "139925558862432\n"
          ]
        }
      ]
    },
    {
      "cell_type": "markdown",
      "source": [
        "## **Functions in Python**"
      ],
      "metadata": {
        "id": "XmyytNaBsmPy"
      }
    },
    {
      "cell_type": "code",
      "source": [
        "def sq_num(x):\n",
        "  return x**2\n",
        "\n",
        "a = 2\n",
        "print(sq_num(a))"
      ],
      "metadata": {
        "id": "v_4Hi8txroan",
        "colab": {
          "base_uri": "https://localhost:8080/"
        },
        "outputId": "23f3bcf8-5368-4819-b387-d1682ec4fb25"
      },
      "execution_count": null,
      "outputs": [
        {
          "output_type": "stream",
          "name": "stdout",
          "text": [
            "4\n"
          ]
        }
      ]
    },
    {
      "cell_type": "code",
      "source": [
        "def add(a, b):\n",
        "    return a+b\n",
        "\n",
        "nOne = 5\n",
        "nTwo = 15\n",
        "res = add(nOne, nTwo)\n",
        "print(res)"
      ],
      "metadata": {
        "id": "cPPKN2dcvXKD",
        "colab": {
          "base_uri": "https://localhost:8080/"
        },
        "outputId": "130325bb-8d29-49d2-dd44-1f44478a8d83"
      },
      "execution_count": null,
      "outputs": [
        {
          "output_type": "stream",
          "name": "stdout",
          "text": [
            "20\n"
          ]
        }
      ]
    },
    {
      "cell_type": "code",
      "source": [
        "def add(a, b=10):\n",
        "    return a+b\n",
        "\n",
        "nOne = 5\n",
        "res = add(nOne)\n",
        "print(res)"
      ],
      "metadata": {
        "id": "PdVDlmkstBKt",
        "colab": {
          "base_uri": "https://localhost:8080/"
        },
        "outputId": "d934d19a-835d-4a4f-edec-e460d7769d04"
      },
      "execution_count": null,
      "outputs": [
        {
          "output_type": "stream",
          "name": "stdout",
          "text": [
            "15\n"
          ]
        }
      ]
    },
    {
      "cell_type": "markdown",
      "source": [
        "### **Anonymous Function**"
      ],
      "metadata": {
        "id": "Xv23fE67w7ES"
      }
    },
    {
      "cell_type": "code",
      "source": [
        "def sq_num(x):\n",
        "  return x**2\n",
        "\n",
        "a = 2\n",
        "print(sq_num(a))"
      ],
      "metadata": {
        "id": "v_DPfw5Xt1hP"
      },
      "execution_count": null,
      "outputs": []
    },
    {
      "cell_type": "code",
      "source": [
        "sq_num = lambda x:x**2\n",
        "print(sq_num(2))"
      ],
      "metadata": {
        "id": "Pt6esCg6xHpS",
        "colab": {
          "base_uri": "https://localhost:8080/"
        },
        "outputId": "e5eaeecc-7c3a-4fbf-9f94-e893a60e7a6c"
      },
      "execution_count": null,
      "outputs": [
        {
          "output_type": "stream",
          "name": "stdout",
          "text": [
            "4\n"
          ]
        }
      ]
    },
    {
      "cell_type": "code",
      "source": [
        "mx = lambda m,n:m if m > n else n\n",
        "print(mx(5,6))"
      ],
      "metadata": {
        "id": "dxt9sQSuxipU",
        "colab": {
          "base_uri": "https://localhost:8080/"
        },
        "outputId": "4a9df34f-3d8f-4c1a-eea0-9d8eaab5fa22"
      },
      "execution_count": null,
      "outputs": [
        {
          "output_type": "stream",
          "name": "stdout",
          "text": [
            "6\n"
          ]
        }
      ]
    },
    {
      "cell_type": "code",
      "source": [],
      "metadata": {
        "id": "TXQDNps_yCGu"
      },
      "execution_count": null,
      "outputs": []
    },
    {
      "cell_type": "markdown",
      "source": [
        "## **AI Calculator which can add and has the ability to learn from its mistakes**"
      ],
      "metadata": {
        "id": "mIcD9fx_Lnk3"
      }
    },
    {
      "cell_type": "code",
      "source": [
        "from sklearn.linear_model import LinearRegression\n",
        "\n",
        "# Gather data\n",
        "X = [[1, 2], [3, 4], [5, 6], [9, 14]]  # input expressions\n",
        "y = [3, 7, 11, 23]  # output results\n",
        "\n",
        "# Train the AI model\n",
        "model = LinearRegression()\n",
        "model.fit(X, y)\n",
        "\n",
        "# Implement the calculator\n",
        "while True:\n",
        "    expression = input(\"Enter an arithmetic expression (e.g., 2 + 3): \")\n",
        "    parts = expression.split()\n",
        "    x = [int(parts[0]), int(parts[2])]\n",
        "    y_pred = model.predict([x])\n",
        "    print(\"Result:\", y_pred[0])\n",
        "\n",
        "    # Evolve the calculator\n",
        "    feedback = input(\"Was the result correct? (y/n): \")\n",
        "    if feedback == \"n\":\n",
        "        correct_result = int(input(\"Enter the correct result: \"))\n",
        "        X.append(x)\n",
        "        y.append(correct_result)\n",
        "        model.fit(X, y)\n",
        "\n",
        "    choice = input(\"Do you want to continue? (y/n): \")\n",
        "    if choice.lower() != 'y':\n",
        "        print(\"Thanks for using the calculator!\")\n",
        "        break\n"
      ],
      "metadata": {
        "id": "CJYN_cgAMHTP",
        "colab": {
          "base_uri": "https://localhost:8080/"
        },
        "outputId": "f4feead7-0bba-4f7c-ba23-f60917d0f284"
      },
      "execution_count": null,
      "outputs": [
        {
          "output_type": "stream",
          "name": "stdout",
          "text": [
            "Enter an arithmetic expression (e.g., 2 + 3): 5 + 6\n",
            "Result: 11.0\n",
            "Was the result correct? (y/n): y\n",
            "Do you want to continue? (y/n): y\n",
            "Enter an arithmetic expression (e.g., 2 + 3): 11 + 7\n",
            "Result: 17.999999999999993\n",
            "Was the result correct? (y/n): n\n",
            "Enter the correct result: 18\n",
            "Do you want to continue? (y/n): y\n",
            "Enter an arithmetic expression (e.g., 2 + 3): 11 + 7\n",
            "Result: 18.0\n",
            "Was the result correct? (y/n): y\n",
            "Do you want to continue? (y/n): n\n",
            "Thanks for using the calculator!\n"
          ]
        }
      ]
    },
    {
      "cell_type": "code",
      "source": [],
      "metadata": {
        "id": "28SN0-IKNm7e"
      },
      "execution_count": null,
      "outputs": []
    }
  ]
}